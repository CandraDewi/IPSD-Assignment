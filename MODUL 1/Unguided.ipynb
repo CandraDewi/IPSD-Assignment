{
 "cells": [
  {
   "cell_type": "markdown",
   "id": "dac279b2-3394-4484-98f6-a60b38c998e7",
   "metadata": {},
   "source": [
    "# 1. Memecahkan Masalah Unik dengan Loop dan If-Else"
   ]
  },
  {
   "cell_type": "markdown",
   "id": "ff68344f",
   "metadata": {},
   "source": [
    "Buatlah program yang dapat menghasilkan pola berbentuk angka seperti di bawah ini, dengan syarat angka yang ditampilkan adalah hasil dari penjumlahan bilangan prima sebelumnya"
   ]
  },
  {
   "cell_type": "code",
   "execution_count": 1,
   "id": "209135b8-33b2-4bdf-b398-f6b3f434bb40",
   "metadata": {},
   "outputs": [
    {
     "name": "stdout",
     "output_type": "stream",
     "text": [
      "1\n",
      "2 3 \n",
      "5 7 11 \n",
      "13 17 19 23 \n"
     ]
    }
   ],
   "source": [
    "n = 2\n",
    "\n",
    "for i in range(4):\n",
    "    if i == 0:\n",
    "        print(1)\n",
    "    else:\n",
    "        for j in range(i+1):\n",
    "            ok = False\n",
    "            while not ok:\n",
    "                ok = True\n",
    "                for k in range(2, int(n**0.5) + 1):\n",
    "                    if n % k == 0:\n",
    "                        ok = False\n",
    "                        break\n",
    "                if not ok:\n",
    "                    n += 1\n",
    "            print(n, end=\" \")\n",
    "            n += 1\n",
    "        print()"
   ]
  },
  {
   "cell_type": "markdown",
   "id": "e35f460c-1975-4067-abb4-c639810da282",
   "metadata": {},
   "source": [
    "# 2. Membuat Fungsi dengan Syarat Spesifik"
   ]
  },
  {
   "cell_type": "markdown",
   "id": "9968597e",
   "metadata": {},
   "source": [
    "Buatlah sebuah fungsi yang menerima dua input berupa list angka. Fungsi ini harus mengembalikan sebuah list baru yang berisi elemen dari dua list input yang memiliki indeks ganjil. List baru tersebut juga harus diurutkan secara menurun berdasarkan nilai elemen."
   ]
  },
  {
   "cell_type": "code",
   "execution_count": 2,
   "id": "85095fe5-2e31-4632-8320-2d461ad9d179",
   "metadata": {},
   "outputs": [
    {
     "name": "stdout",
     "output_type": "stream",
     "text": [
      "list pertama: [3, 6, 4, 8, 1] \n",
      "list kedua: [2, 5, 7, 9, 8] \n",
      "list baru: [1, 3, 5, 7, 9]\n"
     ]
    }
   ],
   "source": [
    "def odds(data1, data2):\n",
    "    mergedata = sorted(data1 + data2)\n",
    "\n",
    "    def filter(data):\n",
    "        if not data:\n",
    "            return []\n",
    "        head = [data[0]] if data [0] % 2 == 1 else []\n",
    "        if len(data) > 1:\n",
    "            return head + filter (data[1:])\n",
    "        else:\n",
    "            return head\n",
    "            \n",
    "    return filter(mergedata)\n",
    "\n",
    "list1 = [3,6,4,8,1]\n",
    "list2 = [2,5,7,9,8]\n",
    "print(\"list pertama:\", list1, \"\\nlist kedua:\", list2, \"\\nlist baru:\", odds(list1, list2))"
   ]
  },
  {
   "cell_type": "markdown",
   "id": "830562c3",
   "metadata": {},
   "source": [
    "# 3. Exception Handling dalam Konteks Nyata"
   ]
  },
  {
   "cell_type": "markdown",
   "id": "a378db41",
   "metadata": {},
   "source": [
    "Buat sebuah program untuk mensimulasikan transaksi ATM. Program harus:\n",
    "1. Meminta pengguna memasukkan PIN (dibatasi 3 kali percobaan).\n",
    "2. Setelah PIN benar, meminta jumlah penarikan.\n",
    "3. Jika saldo kurang dari jumlah yang ditarik, munculkan pesan kesalahan.\n",
    "4. Jika penarikan berhasil, tampilkan saldo akhir.\n"
   ]
  },
  {
   "cell_type": "code",
   "execution_count": 1,
   "id": "5b639e0d-6c28-417a-a7e1-2bb1a1185e62",
   "metadata": {},
   "outputs": [
    {
     "name": "stdin",
     "output_type": "stream",
     "text": [
      "Masukkan PIN:  1111\n"
     ]
    },
    {
     "name": "stdout",
     "output_type": "stream",
     "text": [
      "Berhasil!\n"
     ]
    },
    {
     "name": "stdin",
     "output_type": "stream",
     "text": [
      "Masukkan nominal yang akan di tarik:  50000\n"
     ]
    },
    {
     "name": "stdout",
     "output_type": "stream",
     "text": [
      "Sukses, Sisa saldo anda 50000.0 \n"
     ]
    },
    {
     "data": {
      "text/plain": [
       "True"
      ]
     },
     "execution_count": 1,
     "metadata": {},
     "output_type": "execute_result"
    }
   ],
   "source": [
    "class Bank:\n",
    "    def __init__(self):\n",
    "        self.balance = 100000\n",
    "\n",
    "    def login(self):\n",
    "        att = 3\n",
    "        while att > 0:\n",
    "            pin = int(input(\"Masukkan PIN: \"))\n",
    "            if pin == 1111:\n",
    "                print(\"Berhasil!\")\n",
    "                self.withdraw()\n",
    "                return True\n",
    "            else:\n",
    "                att -= 1  \n",
    "                if att > 0:\n",
    "                    print(f\"Login Gagal! Kamu memiliki {att} kali kesempatan lagi.\")\n",
    "                else:\n",
    "                    print(\"Akses Gagal\")  \n",
    "\n",
    "        return False\n",
    "\n",
    "    def withdraw(self):\n",
    "        amount = float(input(\"Masukkan nominal yang akan di tarik: \"))\n",
    "        if amount > self.balance:\n",
    "            print(\"Saldo anda tidak cukup!\")\n",
    "        else:\n",
    "            self.balance -= amount\n",
    "            print(f\"Sukses, Sisa saldo anda {self.balance} \")\n",
    "\n",
    "account = Bank()\n",
    "account.login()"
   ]
  },
  {
   "cell_type": "markdown",
   "id": "9c1336d3",
   "metadata": {},
   "source": [
    "# 4. Studi Kasus Pengelolaan Data"
   ]
  },
  {
   "cell_type": "markdown",
   "id": "451c8334",
   "metadata": {},
   "source": [
    "Anda diberikan file CSV berisi data nilai ujian mahasiswa. Tugas Anda adalah menulis sebuah program yang:\n",
    "1. Membaca file CSV dan menyimpan datanya ke dalam dictionary.\n",
    "2. Menghitung rata-rata nilai tiap mahasiswa.\n",
    "3. Menampilkan mahasiswa dengan nilai tertinggi dan terendah."
   ]
  },
  {
   "cell_type": "code",
   "execution_count": 5,
   "id": "8e87a186-0857-470f-8aa2-470853f5e749",
   "metadata": {},
   "outputs": [
    {
     "name": "stdout",
     "output_type": "stream",
     "text": [
      "Rata-rata: 72.0 \n",
      "Nilai tertinggi: 100 \n",
      "Nilai terendah: 50\n"
     ]
    }
   ],
   "source": [
    "import pandas as pd\n",
    "import numpy as np\n",
    "\n",
    "data = pd.read_csv('siswa_nilai (1).csv')\n",
    "df = data.to_dict(orient='records')\n",
    "\n",
    "n = [record['Nilai'] for record in df]\n",
    "\n",
    "nilai = np.mean(n)\n",
    "highest = np.max(n)\n",
    "lowest = np.min(n)\n",
    "\n",
    "print(f\"Rata-rata: {nilai}\", f\"\\nNilai tertinggi: {highest}\", f\"\\nNilai terendah: {lowest}\")"
   ]
  },
  {
   "cell_type": "markdown",
   "id": "3cb09fd2",
   "metadata": {},
   "source": [
    "\n",
    "\n",
    "\n",
    "# 5. Kombinasi Logika dan Kreativitas"
   ]
  },
  {
   "cell_type": "markdown",
   "id": "8c37f93c",
   "metadata": {},
   "source": [
    "Buatlah permainan sederhana menggunakan Python, di mana komputer akan memilih sebuah angka secara acak antara 1 hingga 100, dan pengguna harus menebak angka tersebut. Setiap tebakan yang salah akan memberikan petunjuk apakah angka yang ditebak lebih besar atau lebih kecil dari angka sebenarnya. Batasi jumlah percobaan menjadi 5 kali. Setelah permainan selesai, tampilkan apakah pemain menang atau kalah."
   ]
  },
  {
   "cell_type": "code",
   "execution_count": 8,
   "id": "17379694-482b-4b18-8b09-280a83c3d076",
   "metadata": {},
   "outputs": [
    {
     "name": "stdout",
     "output_type": "stream",
     "text": [
      "               Welcome to the Game!               \n"
     ]
    },
    {
     "name": "stdin",
     "output_type": "stream",
     "text": [
      "Guess a number between 1 until 100: 3\n"
     ]
    },
    {
     "name": "stdout",
     "output_type": "stream",
     "text": [
      "Try Again!\n"
     ]
    },
    {
     "name": "stdin",
     "output_type": "stream",
     "text": [
      "Guess a number between 1 until 100: 2\n"
     ]
    },
    {
     "name": "stdout",
     "output_type": "stream",
     "text": [
      "Try Again!\n"
     ]
    },
    {
     "name": "stdin",
     "output_type": "stream",
     "text": [
      "Guess a number between 1 until 100: 5\n"
     ]
    },
    {
     "name": "stdout",
     "output_type": "stream",
     "text": [
      "Try Again!\n",
      "Sorry loser, you ran out of attempts! The secret number is 72\n"
     ]
    }
   ],
   "source": [
    "import random\n",
    "\n",
    "lower = 1\n",
    "upper = 100\n",
    "max_att = 3\n",
    "\n",
    "secretnum = random.randint(lower, upper)\n",
    "\n",
    "def get_guess():\n",
    "    while True:\n",
    "        try:\n",
    "            guess = int(input(f\"Guess a number between {lower} until {upper}:\"))\n",
    "            if lower <= guess <= upper:\n",
    "                return guess\n",
    "            else:\n",
    "                print(\"Invalid. Try Again!\")\n",
    "        except ValueError:\n",
    "            print(\"Can you plz input a valid number??\")\n",
    "\n",
    "def check_guess(guess, secretnum):\n",
    "    if guess == secretnum:\n",
    "        return \"Correct\"\n",
    "    elif guess < secretnum:\n",
    "        return \"To low\"\n",
    "    else:\n",
    "        return \"To high\"\n",
    "\n",
    "def play_game():\n",
    "    att = 0\n",
    "    won = False\n",
    "\n",
    "    while att < max_att:\n",
    "        att += 1\n",
    "        guess = get_guess()\n",
    "        result = check_guess(guess, secretnum)\n",
    "\n",
    "        if result == \"Correct\":\n",
    "            print(f\"I can't belive you actually did it. You guessing {secretnum} in {att} attemps\")\n",
    "            won = True\n",
    "            break\n",
    "        else:\n",
    "            print(\"Try Again!\")\n",
    "\n",
    "    if not won:\n",
    "        print(f\"Sorry loser, you ran out of attempts! The secret number is {secretnum}\")\n",
    "\n",
    "if __name__ == \"__main__\":\n",
    "    w = \"Welcome to the Game!\"\n",
    "    print(w.center(50, ' '))\n",
    "    play_game()"
   ]
  },
  {
   "cell_type": "markdown",
   "id": "11da76a0",
   "metadata": {},
   "source": [
    "# 6. Rekursi yang Tidak Biasa"
   ]
  },
  {
   "cell_type": "markdown",
   "id": "c5a2b7b1",
   "metadata": {},
   "source": [
    "Buat fungsi rekursif yang menerima input bilangan bulat `n` dan menghasilkan urutan bilangan seperti berikut ini:\n",
    "```\n",
    "Input: n = 4\n",
    "Output: 1, 1, 2, 6, 24\n",
    "```\n",
    "Fungsi ini harus menggunakan konsep rekursi untuk menghitung faktorial setiap angka hingga `n`.\n"
   ]
  },
  {
   "cell_type": "code",
   "execution_count": 9,
   "id": "35cdb525-068f-4e76-8e2c-f91b8c60fff8",
   "metadata": {
    "scrolled": true
   },
   "outputs": [
    {
     "name": "stdout",
     "output_type": "stream",
     "text": [
      "Input: n = 4\n",
      "Output: 1, 1, 2, 6, 24\n"
     ]
    }
   ],
   "source": [
    "def factorial(n, result=None, step=1):\n",
    "    if result is None:\n",
    "        result = [1]\n",
    "\n",
    "    if step > n:\n",
    "        return result\n",
    "    \n",
    "    result.append(result[-1] * step)\n",
    "\n",
    "    return factorial(n, result, step + 1)\n",
    "    \n",
    "n = 4\n",
    "result = factorial(n)\n",
    "hasil = \", \".join(map(str, result))\n",
    "\n",
    "print(f\"Input: n = {n}\")\n",
    "print(f\"Output: {hasil}\")"
   ]
  },
  {
   "cell_type": "markdown",
   "id": "f4d020ab",
   "metadata": {},
   "source": [
    "# 7. Pemrograman dengan Algoritma Greedy"
   ]
  },
  {
   "cell_type": "markdown",
   "id": "b6592792",
   "metadata": {},
   "source": [
    "Buatlah program untuk memecahkan masalah \"minimum coin change\". Diberikan jumlah uang dan daftar nilai koin yang tersedia (misalnya, 1, 5, 10, 25), tentukan kombinasi minimum koin yang diperlukan untuk mencapai jumlah uang tersebut. Namun, program Anda harus bisa menangani koin-koin yang nilai dan jumlahnya ditentukan pengguna."
   ]
  },
  {
   "cell_type": "code",
   "execution_count": 10,
   "id": "4200322c-a095-4dca-a5eb-4dff1272ca79",
   "metadata": {},
   "outputs": [
    {
     "name": "stdout",
     "output_type": "stream",
     "text": [
      "Coin 85: 25 25 25 10 "
     ]
    }
   ],
   "source": [
    "def find(v):\n",
    "    coin = [1,5,10,25]\n",
    "    n = len(coin)\n",
    "\n",
    "    ans = []\n",
    "\n",
    "    i = n - 1\n",
    "    while(i >= 0):\n",
    "        while(v >= coin[i]):\n",
    "            v -= coin[i]\n",
    "            ans.append(coin[i])\n",
    "\n",
    "        i -= 1\n",
    "\n",
    "    for i in range(len(ans)):\n",
    "        print(ans[i], end = \" \")\n",
    "\n",
    "if __name__ == '__main__':\n",
    "    n = 85\n",
    "    print(f\"Coin {n}:\", end = \" \")\n",
    "    find(n)"
   ]
  },
  {
   "cell_type": "markdown",
   "id": "6b9b3321",
   "metadata": {},
   "source": [
    "# 8. Kombinasi String dan Manipulasi List"
   ]
  },
  {
   "cell_type": "markdown",
   "id": "2b6aa286",
   "metadata": {},
   "source": [
    "Buat sebuah program yang menerima string dari pengguna dan mengonversi string tersebut menjadi sebuah list berisi kata-kata terbalik. Misalnya:\n",
    "```\n",
    "Input: \"Saya suka Python\"\n",
    "Output: [\"ayaS\", \"akus\", \"nohtyP\"]\n",
    "```\n"
   ]
  },
  {
   "cell_type": "code",
   "execution_count": 11,
   "id": "92337b97-7514-4e77-9beb-113390ad4c2d",
   "metadata": {},
   "outputs": [
    {
     "name": "stdin",
     "output_type": "stream",
     "text": [
      "Input:  Saya suka Python\n"
     ]
    },
    {
     "name": "stdout",
     "output_type": "stream",
     "text": [
      "Output: ['ayaS', 'akus', 'nohtyP']\n"
     ]
    }
   ],
   "source": [
    "ori = input(\"Input: \")\n",
    "words = ori.split()\n",
    "\n",
    "reversed_words = [word[::-1] for word in words]\n",
    "\n",
    "print(f'Output: {reversed_words}')"
   ]
  },
  {
   "cell_type": "markdown",
   "id": "9b5506b6",
   "metadata": {},
   "source": [
    "# 9. Konsep Class dan Object-Oriented Programming"
   ]
  },
  {
   "cell_type": "markdown",
   "id": "cdd593ba",
   "metadata": {},
   "source": [
    "Buat class bernama `Buku` yang memiliki atribut `judul`, `penulis`, dan `tahun_terbit`. Buat method dalam class untuk menampilkan informasi buku, serta method untuk menghitung usia buku berdasarkan tahun saat ini. Buatlah 3 objek dari class `Buku` dan tampilkan informasi serta usia masing-masing buku."
   ]
  },
  {
   "cell_type": "code",
   "execution_count": 7,
   "id": "6213e4b2-4c8c-4e73-8e71-30ffec0faa40",
   "metadata": {},
   "outputs": [
    {
     "name": "stdout",
     "output_type": "stream",
     "text": [
      "\n",
      "===== BOOK INFORMATION 1 =====\n",
      "Judul Buku: Laut Bercerita\n",
      "Penulis: Leila S. Chudori\n",
      "Tahun Terbit: 2017\n",
      "Usia Buku: 7 tahun\n",
      "\n",
      "===== BOOK INFORMATION 2 =====\n",
      "Judul Buku: Bumi Manusia\n",
      "Penulis: Pramoedya Ananta Toer\n",
      "Tahun Terbit: 1980\n",
      "Usia Buku: 44 tahun\n",
      "\n",
      "===== BOOK INFORMATION 3 =====\n",
      "Judul Buku: Laskar Pelangi\n",
      "Penulis: Andrea Hirata\n",
      "Tahun Terbit: 2005\n",
      "Usia Buku: 19 tahun\n"
     ]
    }
   ],
   "source": [
    "from datetime import datetime\n",
    "\n",
    "class Buku:\n",
    "    def __init__(self, judul, penulis, tahun_terbit):\n",
    "        self.judul = judul\n",
    "        self.penulis = penulis\n",
    "        self.tahun_terbit = tahun_terbit\n",
    "\n",
    "    def info(self):\n",
    "        print(f\"Judul Buku: {self.judul}\")\n",
    "        print(f\"Penulis: {self.penulis}\")\n",
    "        print(f\"Tahun Terbit: {self.tahun_terbit}\")\n",
    "        print(f\"Usia Buku: {self.usia()} tahun\")\n",
    "\n",
    "    def usia(self):\n",
    "        current_year = datetime.now().year\n",
    "        return current_year - self.tahun_terbit\n",
    "\n",
    "def main():\n",
    "    buku1 = Buku(\"Laut Bercerita\", \"Leila S. Chudori\", 2017)\n",
    "    buku2 = Buku(\"Bumi Manusia\", \"Pramoedya Ananta Toer\", 1980)\n",
    "    buku3 = Buku(\"Laskar Pelangi\", \"Andrea Hirata\", 2005)\n",
    "\n",
    "    print(\"\\n===== BOOK INFORMATION 1 =====\")\n",
    "    buku1.info()\n",
    "    \n",
    "    print(\"\\n===== BOOK INFORMATION 2 =====\")\n",
    "    buku2.info()\n",
    "\n",
    "    print(\"\\n===== BOOK INFORMATION 3 =====\")\n",
    "    buku3.info()\n",
    "\n",
    "if __name__ == \"__main__\":\n",
    "    main()"
   ]
  },
  {
   "cell_type": "markdown",
   "id": "35c6d5f5",
   "metadata": {},
   "source": [
    "# 10. Algoritma dengan Persyaratan Logika Khusus"
   ]
  },
  {
   "cell_type": "markdown",
   "id": "ed191683",
   "metadata": {},
   "source": [
    "Buatlah program yang mengimplementasikan algoritma pencarian biner, namun dengan modifikasi: algoritma harus bisa mencari nilai di list yang hanya berisi angka genap, dan jika nilai yang dicari adalah angka ganjil, program harus menampilkan pesan bahwa nilai tersebut tidak bisa ditemukan."
   ]
  },
  {
   "cell_type": "code",
   "execution_count": 9,
   "id": "4425f243-2ff6-4711-a46b-61f33ccdc1b0",
   "metadata": {},
   "outputs": [
    {
     "name": "stdin",
     "output_type": "stream",
     "text": [
      "Enter a number:  2\n"
     ]
    },
    {
     "name": "stdout",
     "output_type": "stream",
     "text": [
      "Value 2 found at index 1\n"
     ]
    }
   ],
   "source": [
    "def binary(arr, target):\n",
    "    if target % 2 != 0:\n",
    "        return \"Sorry, it's an odd number\"\n",
    "\n",
    "    left, right = 0, len(arr) - 1\n",
    "\n",
    "    while left <= right:\n",
    "        mid = (left + right) // 2\n",
    "\n",
    "        if arr[mid] == target:\n",
    "            return f\"Value {target} found at index {mid}\"\n",
    "        elif arr[mid] < target:\n",
    "            left = mid + 1\n",
    "        else:\n",
    "            right = mid - 1\n",
    "\n",
    "    return f\"Value {target} not found in the list\"\n",
    "\n",
    "def main():\n",
    "    num = [1,2,3,4,5,6,7,8,9]\n",
    "\n",
    "    try:\n",
    "        target = int(input(\"Enter a number: \"))\n",
    "    except ValueError:\n",
    "        print(\"Please input a valid integer\")\n",
    "        return\n",
    "\n",
    "    result = binary(num, target)\n",
    "    print(result)\n",
    "\n",
    "if __name__ == \"__main__\":\n",
    "    main()"
   ]
  }
 ],
 "metadata": {
  "kernelspec": {
   "display_name": "Python 3 (ipykernel)",
   "language": "python",
   "name": "python3"
  },
  "language_info": {
   "codemirror_mode": {
    "name": "ipython",
    "version": 3
   },
   "file_extension": ".py",
   "mimetype": "text/x-python",
   "name": "python",
   "nbconvert_exporter": "python",
   "pygments_lexer": "ipython3",
   "version": "3.10.9"
  }
 },
 "nbformat": 4,
 "nbformat_minor": 5
}
