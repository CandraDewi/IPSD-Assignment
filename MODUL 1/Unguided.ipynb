{
 "cells": [
  {
   "cell_type": "markdown",
   "id": "dac279b2-3394-4484-98f6-a60b38c998e7",
   "metadata": {},
   "source": [
    "Buatlah program yang dapat menghasilkan pola berbentuk angka seperti di bawah ini, dengan syarat angka yang ditampilkan adalah hasil dari penjumlahan bilangan prima sebelumnya"
   ]
  },
  {
   "cell_type": "code",
   "execution_count": 2,
   "id": "209135b8-33b2-4bdf-b398-f6b3f434bb40",
   "metadata": {},
   "outputs": [
    {
     "name": "stdin",
     "output_type": "stream",
     "text": [
      "Masukkan jumlah pola yang ingin dicetak:  5\n"
     ]
    },
    {
     "name": "stdout",
     "output_type": "stream",
     "text": [
      "1\n",
      "2 3\n",
      "5 7 11\n",
      "13 17 19 23\n",
      "29 31 37 41 43\n"
     ]
    }
   ],
   "source": [
    "#SOAL NOMOR 1\n",
    "\n",
    "def apakah_prima(n):\n",
    "    if n < 2:\n",
    "        return False\n",
    "    for i in range(2, int(n**0.5) + 1):\n",
    "        if n % i == 0:\n",
    "            return False\n",
    "    return True\n",
    "\n",
    "def buat_pola_prima(jumlah_baris):\n",
    "    hasil = [[1]]  #Mulai dengan 1 di baris pertama\n",
    "    bilangan_prima = []\n",
    "    angka_sekarang = 2\n",
    "\n",
    "    for baris in range(1, jumlah_baris):\n",
    "        angka_baris = []\n",
    "        while len(angka_baris) < baris + 1:\n",
    "            if apakah_prima(angka_sekarang):\n",
    "                bilangan_prima.append(angka_sekarang)\n",
    "                angka_baris.append(angka_sekarang)\n",
    "            angka_sekarang += 1\n",
    "        hasil.append(angka_baris)\n",
    "\n",
    "    return hasil\n",
    "\n",
    "def cetak_pola(pola):\n",
    "    for baris in pola:\n",
    "        print(' '.join(map(str, baris)))\n",
    "\n",
    "#Menghasilkan dan mencetak pola\n",
    "jumlah_baris = int(input(\"Masukkan jumlah pola yang ingin dicetak: \"))\n",
    "pola = buat_pola_prima(jumlah_baris)\n",
    "cetak_pola(pola)"
   ]
  },
  {
   "cell_type": "markdown",
   "id": "e35f460c-1975-4067-abb4-c639810da282",
   "metadata": {},
   "source": [
    "Buatlah sebuah fungsi yang menerima dua input berupa list angka. Fungsi ini harus mengembalikan sebuah list baru yang berisi elemen dari dua list input yang memiliki indeks ganjil. List baru tersebut juga harus diurutkan secara menurun berdasarkan nilai elemen."
   ]
  },
  {
   "cell_type": "code",
   "execution_count": 3,
   "id": "85095fe5-2e31-4632-8320-2d461ad9d179",
   "metadata": {},
   "outputs": [
    {
     "name": "stdout",
     "output_type": "stream",
     "text": [
      "Untuk List pertama:\n"
     ]
    },
    {
     "name": "stdin",
     "output_type": "stream",
     "text": [
      "Masukkan jumlah elemen dalam list:  1\n",
      "Masukkan elemen ke-1:  8\n"
     ]
    },
    {
     "name": "stdout",
     "output_type": "stream",
     "text": [
      "\n",
      "Untuk List kedua:\n"
     ]
    },
    {
     "name": "stdin",
     "output_type": "stream",
     "text": [
      "Masukkan jumlah elemen dalam list:  4\n",
      "Masukkan elemen ke-1:  0\n",
      "Masukkan elemen ke-2:  9\n",
      "Masukkan elemen ke-3:  6\n",
      "Masukkan elemen ke-4:  5\n"
     ]
    },
    {
     "name": "stdout",
     "output_type": "stream",
     "text": [
      "\n",
      "List A: [8]\n",
      "List B: [0, 9, 6, 5]\n",
      "Hasil penggabungan indeks ganjil (diurutkan menurun): [9, 5]\n"
     ]
    }
   ],
   "source": [
    "def merge_odd_indices(list1, list2):\n",
    "    #Ambil elemen dengan indeks ganjil dari kedua list\n",
    "    odd_indices1 = list1[1::2]\n",
    "    odd_indices2 = list2[1::2]\n",
    "    \n",
    "    #Gabungkan kedua list\n",
    "    merged = odd_indices1 + odd_indices2\n",
    "    \n",
    "    #Urutkan secara menurun\n",
    "    merged.sort(reverse=True)\n",
    "    \n",
    "    return merged\n",
    "\n",
    "def get_input_list():\n",
    "    n = int(input(\"Masukkan jumlah elemen dalam list: \"))\n",
    "    return [int(input(f\"Masukkan elemen ke-{i+1}: \")) for i in range(n)]\n",
    "\n",
    "#Menerima input untuk dua list\n",
    "print(\"Untuk List pertama:\")\n",
    "list_a = get_input_list()\n",
    "\n",
    "print(\"\\nUntuk List kedua:\")\n",
    "list_b = get_input_list()\n",
    "\n",
    "#Menjalankan fungsi dan mencetak hasil\n",
    "result = merge_odd_indices(list_a, list_b)\n",
    "print(\"\\nList A:\", list_a)\n",
    "print(\"List B:\", list_b)\n",
    "print(\"Hasil penggabungan indeks ganjil (diurutkan menurun):\", result)"
   ]
  },
  {
   "cell_type": "code",
   "execution_count": null,
   "id": "5b639e0d-6c28-417a-a7e1-2bb1a1185e62",
   "metadata": {},
   "outputs": [],
   "source": []
  }
 ],
 "metadata": {
  "kernelspec": {
   "display_name": "Python 3 (ipykernel)",
   "language": "python",
   "name": "python3"
  },
  "language_info": {
   "codemirror_mode": {
    "name": "ipython",
    "version": 3
   },
   "file_extension": ".py",
   "mimetype": "text/x-python",
   "name": "python",
   "nbconvert_exporter": "python",
   "pygments_lexer": "ipython3",
   "version": "3.10.9"
  }
 },
 "nbformat": 4,
 "nbformat_minor": 5
}
