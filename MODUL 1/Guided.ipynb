{
 "cells": [
  {
   "cell_type": "markdown",
   "id": "fca652ad-bf54-4695-a597-d49db1e88ee6",
   "metadata": {},
   "source": [
    "Buat program yang menampilkan nama dan umur"
   ]
  },
  {
   "cell_type": "code",
   "execution_count": 118,
   "id": "9035649d-6be8-445e-ac38-6365d4d421e2",
   "metadata": {},
   "outputs": [
    {
     "name": "stdout",
     "output_type": "stream",
     "text": [
      "Nama : Candra \n",
      "Umur : 20\n"
     ]
    }
   ],
   "source": [
    "nama = \"Candra\"\n",
    "umur = 20\n",
    "print(f\"Nama : {nama} \\nUmur : {umur}\")"
   ]
  },
  {
   "cell_type": "markdown",
   "id": "5251f078-164e-4fbc-b917-bd6fdf1a23db",
   "metadata": {},
   "source": [
    "Buat variable untuk menyimpan nilai luas dan keliling lingkaran, hitung hasilnya."
   ]
  },
  {
   "cell_type": "code",
   "execution_count": 4,
   "id": "3cba6408-28ac-4170-9892-b89eed3aae45",
   "metadata": {},
   "outputs": [
    {
     "name": "stdout",
     "output_type": "stream",
     "text": [
      "Luas Lingkaran : 201.06192982974676 \n",
      "Keliling Lingkaran : 50.26548245743669\n"
     ]
    }
   ],
   "source": [
    "from math import pi\n",
    "\n",
    "jari = 8\n",
    "luas = pi *jari**2\n",
    "keliling = 2*pi*jari\n",
    "print(f\"Luas Lingkaran : {luas} \\nKeliling Lingkaran : {keliling}\")"
   ]
  },
  {
   "cell_type": "markdown",
   "id": "83344cda-82dd-4a49-8bab-2f25d5ee6814",
   "metadata": {},
   "source": [
    "Tampilkan tipe data dari variable yang menyimpan angka dan teks."
   ]
  },
  {
   "cell_type": "code",
   "execution_count": 5,
   "id": "fbf009ed-a862-45e4-bac8-a99e14b8b9cc",
   "metadata": {},
   "outputs": [
    {
     "name": "stdout",
     "output_type": "stream",
     "text": [
      "Tipe Data Angka : <class 'int'> \n",
      "Tipe Data Teks : <class 'str'>\n"
     ]
    }
   ],
   "source": [
    "angka = 129\n",
    "teks = 'ini angka'\n",
    "print(f\"Tipe Data Angka : {type(angka)} \\nTipe Data Teks : {type(teks)}\")"
   ]
  },
  {
   "cell_type": "markdown",
   "id": "d5ab71ea-b915-45cf-a027-f121bcfd4cc9",
   "metadata": {},
   "source": [
    "Buat program yang mengubah nilai dari tipe integer menjadi float."
   ]
  },
  {
   "cell_type": "code",
   "execution_count": 7,
   "id": "88c053e4-a91f-4ad1-8803-37a6050847a9",
   "metadata": {},
   "outputs": [
    {
     "name": "stdout",
     "output_type": "stream",
     "text": [
      "nilai kamu adalah 100 dan tipe datanya adalah <class 'int'>\n",
      "nilai kamu adalah 100.0 dan tipe datanya adalah <class 'float'>\n"
     ]
    }
   ],
   "source": [
    "nilai = 100\n",
    "print(f'nilai kamu adalah {nilai} dan tipe datanya adalah {type(nilai)}')\n",
    "nilai = float(nilai)\n",
    "print(f'nilai kamu adalah {nilai} dan tipe datanya adalah {type(nilai)}')"
   ]
  },
  {
   "cell_type": "markdown",
   "id": "97de016e-1ece-4d57-95a6-1f72b8d253af",
   "metadata": {},
   "source": [
    "Buat program yang mengubah string menjadi integer dan sebaliknya."
   ]
  },
  {
   "cell_type": "code",
   "execution_count": 8,
   "id": "78ad69a0-a63d-4a2a-8829-78643dc2db69",
   "metadata": {},
   "outputs": [
    {
     "name": "stdout",
     "output_type": "stream",
     "text": [
      "Tipe Data a : <class 'str'>\n",
      "Tipe Data a : <class 'int'>\n"
     ]
    }
   ],
   "source": [
    "a = \"123\"\n",
    "print(f\"Tipe Data a : {type(a)}\")\n",
    "a = int(a)\n",
    "print(f\"Tipe Data a : {type(a)}\")"
   ]
  },
  {
   "cell_type": "markdown",
   "id": "f13a81d9-af7a-4c7c-9020-446c5910d0f8",
   "metadata": {},
   "source": [
    "Buat program yang mengalikan string dengan angka"
   ]
  },
  {
   "cell_type": "code",
   "execution_count": 9,
   "id": "b498af78-441a-4cc3-961d-0e56f25fd061",
   "metadata": {},
   "outputs": [
    {
     "name": "stdout",
     "output_type": "stream",
     "text": [
      "ulang ulang ulang \n"
     ]
    }
   ],
   "source": [
    "text = \"ulang \"\n",
    "multiplied_text = text * 3\n",
    "print(multiplied_text)"
   ]
  },
  {
   "cell_type": "markdown",
   "id": "eaed912a-f6d6-4c0f-b45d-f2b8a3babf6a",
   "metadata": {},
   "source": [
    "Buat program yang memeriksa apakah angka adalah bilangan genap atau ganjil"
   ]
  },
  {
   "cell_type": "code",
   "execution_count": 10,
   "id": "cb526027-f3a9-4c4d-ad15-fe3b7fc4fdea",
   "metadata": {},
   "outputs": [
    {
     "name": "stdout",
     "output_type": "stream",
     "text": [
      "Ganjil\n"
     ]
    }
   ],
   "source": [
    "number = 7\n",
    "if number % 2 == 0:\n",
    "  print(\"Genap\")\n",
    "else:\n",
    "  print(\"Ganjil\")"
   ]
  },
  {
   "cell_type": "markdown",
   "id": "48afee4f-3ca2-4df5-8727-562e171cfad5",
   "metadata": {},
   "source": [
    "Buat program yang memeriksa apakah sebuah nilai lebih besar dari 100"
   ]
  },
  {
   "cell_type": "code",
   "execution_count": 11,
   "id": "b388d720-3fa2-4d3a-94fb-88434fd4e535",
   "metadata": {},
   "outputs": [
    {
     "name": "stdout",
     "output_type": "stream",
     "text": [
      "lebih dari 100\n"
     ]
    }
   ],
   "source": [
    "value = 150\n",
    "if value > 100:\n",
    "    print(\"lebih dari 100\")\n",
    "else:\n",
    "    print(\"100 atau kurang dari\")"
   ]
  },
  {
   "cell_type": "markdown",
   "id": "95d2b920-3a2d-4a07-8215-e8c4f1000818",
   "metadata": {},
   "source": [
    "Buat program yang menerima input umur dan menampilkan kategori umur (anak-anak, remaja, dewasa)"
   ]
  },
  {
   "cell_type": "code",
   "execution_count": 12,
   "id": "98dd0247-e285-454e-9687-977822952597",
   "metadata": {},
   "outputs": [
    {
     "name": "stdout",
     "output_type": "stream",
     "text": [
      "Remaja\n"
     ]
    }
   ],
   "source": [
    "age = 16\n",
    "if age <= 12:\n",
    "    print(\"Anak-anak\")\n",
    "elif 13 <= age <= 17:\n",
    "    print(\"Remaja\")\n",
    "else:\n",
    "    print(\"Dewasa\")"
   ]
  },
  {
   "cell_type": "markdown",
   "id": "5e10923d-ac97-4dee-acb2-ab8f37a6b94b",
   "metadata": {},
   "source": [
    "Buat program yang meminta input nama pengguna, jika nama benar tampilkan \"Selamat datang\""
   ]
  },
  {
   "cell_type": "code",
   "execution_count": 14,
   "id": "d420b3a1-9f54-44a3-907d-86d854642d36",
   "metadata": {},
   "outputs": [
    {
     "name": "stdin",
     "output_type": "stream",
     "text": [
      "Enter username:  Slamet\n"
     ]
    },
    {
     "name": "stdout",
     "output_type": "stream",
     "text": [
      "Selamat datang Slamet\n"
     ]
    }
   ],
   "source": [
    "username = input(\"Enter username: \")\n",
    "if username == \"Jono\":\n",
    "    print(\"Selamat datang {username}\")\n",
    "elif username == \"Slamet\":\n",
    "    print(f\"Selamat datang {username}\")\n",
    "else:\n",
    "    print(\"Nama tidak dikenali\")"
   ]
  },
  {
   "cell_type": "markdown",
   "id": "c1f72f85-7265-4e29-91fd-bf0c21b96f81",
   "metadata": {},
   "source": [
    "Buat program yang menampilkan apakah suatu tahun adalah tahun kabisat"
   ]
  },
  {
   "cell_type": "code",
   "execution_count": 15,
   "id": "cb08c1cc-889c-4a98-a940-89d51d6bfea5",
   "metadata": {},
   "outputs": [
    {
     "name": "stdout",
     "output_type": "stream",
     "text": [
      "Tahun Kabisat\n"
     ]
    }
   ],
   "source": [
    "year = 2024\n",
    "if (year % 4 == 0 and year % 100 != 0) or (year % 400 == 0):\n",
    "    print(\"Tahun Kabisat\")\n",
    "else:\n",
    "    print(\"Bukan Tahun Kabisat\")\n"
   ]
  },
  {
   "cell_type": "markdown",
   "id": "364b4bc6-6114-4bd6-b640-32c5fbab0dde",
   "metadata": {},
   "source": [
    "Buat program untuk menentukan apakah seseorang boleh memberikan suara berdasarkan umurnya"
   ]
  },
  {
   "cell_type": "code",
   "execution_count": 16,
   "id": "9a7b2da6-dcdf-4755-bb1a-a4696a82a0fc",
   "metadata": {},
   "outputs": [
    {
     "name": "stdout",
     "output_type": "stream",
     "text": [
      "Boleh memberikan suara\n"
     ]
    }
   ],
   "source": [
    "age = 18\n",
    "if age >= 18:\n",
    "    print(\"Boleh memberikan suara\")\n",
    "else:\n",
    "    print(\"Tidak boleh memberikan suara\")"
   ]
  },
  {
   "cell_type": "markdown",
   "id": "ce49fb83-3fe6-4bb6-a021-c749d585a6e3",
   "metadata": {},
   "source": [
    "Buat program yang meminta input tiga angka dan menampilkan angka terbesar."
   ]
  },
  {
   "cell_type": "code",
   "execution_count": 17,
   "id": "56799758-a758-46bb-b19b-cd2cbe4355a5",
   "metadata": {},
   "outputs": [
    {
     "name": "stdout",
     "output_type": "stream",
     "text": [
      "Nilai terbesar 7\n"
     ]
    }
   ],
   "source": [
    "a, b, c = 3, 7, 5\n",
    "largest = max(a, b, c)\n",
    "print(f\"Nilai terbesar {largest}\")"
   ]
  },
  {
   "cell_type": "markdown",
   "id": "eccc3b7c-77a1-49d0-8fc5-95c0df925a9f",
   "metadata": {},
   "source": [
    "Buat program yang mengecek apakah dua string memiliki panjang yang sama"
   ]
  },
  {
   "cell_type": "code",
   "execution_count": 19,
   "id": "3084375a-953b-4478-ab61-9c6aebebd277",
   "metadata": {},
   "outputs": [
    {
     "name": "stdout",
     "output_type": "stream",
     "text": [
      "Memiliki Panjang yg sama\n"
     ]
    }
   ],
   "source": [
    "str1 = \"hello\"\n",
    "str2 = \"world\"\n",
    "if len(str1) == len(str2):\n",
    "    print(\"Memiliki Panjang yg sama\")\n",
    "else:\n",
    "    print(\"Memiliki panjang yg berbeda\")"
   ]
  },
  {
   "cell_type": "markdown",
   "id": "49539e7e-384d-4f79-ba5a-05bc2d507902",
   "metadata": {},
   "source": [
    "Buat program yang menampilkan angka 1 sampai 10 menggunakan for loop"
   ]
  },
  {
   "cell_type": "code",
   "execution_count": 20,
   "id": "d7eb811d-4b82-4389-b549-08a4e938ee47",
   "metadata": {},
   "outputs": [
    {
     "name": "stdout",
     "output_type": "stream",
     "text": [
      "1\n",
      "2\n",
      "3\n",
      "4\n",
      "5\n",
      "6\n",
      "7\n",
      "8\n",
      "9\n",
      "10\n"
     ]
    }
   ],
   "source": [
    "for i in range(1, 11):\n",
    "    print(i)"
   ]
  },
  {
   "cell_type": "markdown",
   "id": "40c951c4-a2a7-449d-9596-0b8f26245495",
   "metadata": {},
   "source": [
    "Buat program yang menampilkan bilangan genap dari 2 sampai 20 menggunakan while loop"
   ]
  },
  {
   "cell_type": "code",
   "execution_count": 21,
   "id": "1fad5398-4cd5-4980-8171-9ea45e8ec59f",
   "metadata": {},
   "outputs": [
    {
     "name": "stdout",
     "output_type": "stream",
     "text": [
      "2\n",
      "4\n",
      "6\n",
      "8\n",
      "10\n",
      "12\n",
      "14\n",
      "16\n",
      "18\n",
      "20\n"
     ]
    }
   ],
   "source": [
    "i = 2\n",
    "while i <= 20:\n",
    "    print(i)\n",
    "    i += 2"
   ]
  },
  {
   "cell_type": "markdown",
   "id": "e43f76f0-0f8f-4752-8abb-66eb9e62e8d2",
   "metadata": {},
   "source": [
    "Buat program yang menerima input dan menampilkan kalimat tersebut sebanyak 5 kali"
   ]
  },
  {
   "cell_type": "code",
   "execution_count": 22,
   "id": "f3ded08d-df3b-4e92-b882-740a72f492dd",
   "metadata": {},
   "outputs": [
    {
     "name": "stdin",
     "output_type": "stream",
     "text": [
      "Masukkan Kalimat:  Kucing oren\n"
     ]
    },
    {
     "name": "stdout",
     "output_type": "stream",
     "text": [
      "Kucing oren\n",
      "Kucing oren\n",
      "Kucing oren\n",
      "Kucing oren\n",
      "Kucing oren\n"
     ]
    }
   ],
   "source": [
    "sentence = input(\"Masukkan Kalimat: \")\n",
    "for _ in range(5):\n",
    "    print(sentence)"
   ]
  },
  {
   "cell_type": "markdown",
   "id": "fec69efc-d165-4496-9119-7fdc8e35dc63",
   "metadata": {},
   "source": [
    "Buat program untuk menghitung jumlah angka dari 1 sampai N"
   ]
  },
  {
   "cell_type": "code",
   "execution_count": 23,
   "id": "bbfe69f2-fb38-49aa-abca-62a9cd5b56af",
   "metadata": {},
   "outputs": [
    {
     "name": "stdout",
     "output_type": "stream",
     "text": [
      "Sum dari 1 to 10 adalah 55\n"
     ]
    }
   ],
   "source": [
    "N = 10\n",
    "total_sum = sum(range(1, N + 1))\n",
    "print(f\"Sum dari 1 to {N} adalah {total_sum}\")"
   ]
  },
  {
   "cell_type": "markdown",
   "id": "64fdd1ad-c4cc-4714-abb6-4ff76356d1da",
   "metadata": {},
   "source": [
    "Buat program yang menggunakan break untuk keluar dari loop jika kondisi tertentu terpenuhi"
   ]
  },
  {
   "cell_type": "code",
   "execution_count": 24,
   "id": "37c9a057-2187-419e-bfc1-54e2fec679ac",
   "metadata": {},
   "outputs": [
    {
     "name": "stdout",
     "output_type": "stream",
     "text": [
      "1\n",
      "2\n",
      "3\n",
      "4\n"
     ]
    }
   ],
   "source": [
    "for i in range(1, 11):\n",
    "    if i == 5:\n",
    "        break\n",
    "    print(i)"
   ]
  },
  {
   "cell_type": "markdown",
   "id": "af3d8b0d-1001-4baa-9bef-18c0d16fa947",
   "metadata": {},
   "source": [
    "Buat program yang menggunakan continue untuk melewati iterasi tertentu dalam loop"
   ]
  },
  {
   "cell_type": "code",
   "execution_count": 25,
   "id": "dd2be5f7-e6b3-4e3f-ab37-029c4bc5363c",
   "metadata": {},
   "outputs": [
    {
     "name": "stdout",
     "output_type": "stream",
     "text": [
      "1\n",
      "2\n",
      "3\n",
      "4\n",
      "6\n",
      "7\n",
      "8\n",
      "9\n",
      "10\n"
     ]
    }
   ],
   "source": [
    "for i in range(1, 11):\n",
    "    if i == 5:\n",
    "        continue\n",
    "    print(i)"
   ]
  },
  {
   "cell_type": "markdown",
   "id": "29523cd8-e6c6-433e-98be-b96e77ded89b",
   "metadata": {},
   "source": [
    "Buat program yang menampilkan tabel perkalian 1 sampai 10"
   ]
  },
  {
   "cell_type": "code",
   "execution_count": 26,
   "id": "431b31ba-c47b-4ce9-af84-d83cca39f2fe",
   "metadata": {},
   "outputs": [
    {
     "name": "stdout",
     "output_type": "stream",
     "text": [
      "1 x 1 = 1\n",
      "1 x 2 = 2\n",
      "1 x 3 = 3\n",
      "1 x 4 = 4\n",
      "1 x 5 = 5\n",
      "1 x 6 = 6\n",
      "1 x 7 = 7\n",
      "1 x 8 = 8\n",
      "1 x 9 = 9\n",
      "1 x 10 = 10\n",
      "\n",
      "2 x 1 = 2\n",
      "2 x 2 = 4\n",
      "2 x 3 = 6\n",
      "2 x 4 = 8\n",
      "2 x 5 = 10\n",
      "2 x 6 = 12\n",
      "2 x 7 = 14\n",
      "2 x 8 = 16\n",
      "2 x 9 = 18\n",
      "2 x 10 = 20\n",
      "\n",
      "3 x 1 = 3\n",
      "3 x 2 = 6\n",
      "3 x 3 = 9\n",
      "3 x 4 = 12\n",
      "3 x 5 = 15\n",
      "3 x 6 = 18\n",
      "3 x 7 = 21\n",
      "3 x 8 = 24\n",
      "3 x 9 = 27\n",
      "3 x 10 = 30\n",
      "\n",
      "4 x 1 = 4\n",
      "4 x 2 = 8\n",
      "4 x 3 = 12\n",
      "4 x 4 = 16\n",
      "4 x 5 = 20\n",
      "4 x 6 = 24\n",
      "4 x 7 = 28\n",
      "4 x 8 = 32\n",
      "4 x 9 = 36\n",
      "4 x 10 = 40\n",
      "\n",
      "5 x 1 = 5\n",
      "5 x 2 = 10\n",
      "5 x 3 = 15\n",
      "5 x 4 = 20\n",
      "5 x 5 = 25\n",
      "5 x 6 = 30\n",
      "5 x 7 = 35\n",
      "5 x 8 = 40\n",
      "5 x 9 = 45\n",
      "5 x 10 = 50\n",
      "\n",
      "6 x 1 = 6\n",
      "6 x 2 = 12\n",
      "6 x 3 = 18\n",
      "6 x 4 = 24\n",
      "6 x 5 = 30\n",
      "6 x 6 = 36\n",
      "6 x 7 = 42\n",
      "6 x 8 = 48\n",
      "6 x 9 = 54\n",
      "6 x 10 = 60\n",
      "\n",
      "7 x 1 = 7\n",
      "7 x 2 = 14\n",
      "7 x 3 = 21\n",
      "7 x 4 = 28\n",
      "7 x 5 = 35\n",
      "7 x 6 = 42\n",
      "7 x 7 = 49\n",
      "7 x 8 = 56\n",
      "7 x 9 = 63\n",
      "7 x 10 = 70\n",
      "\n",
      "8 x 1 = 8\n",
      "8 x 2 = 16\n",
      "8 x 3 = 24\n",
      "8 x 4 = 32\n",
      "8 x 5 = 40\n",
      "8 x 6 = 48\n",
      "8 x 7 = 56\n",
      "8 x 8 = 64\n",
      "8 x 9 = 72\n",
      "8 x 10 = 80\n",
      "\n",
      "9 x 1 = 9\n",
      "9 x 2 = 18\n",
      "9 x 3 = 27\n",
      "9 x 4 = 36\n",
      "9 x 5 = 45\n",
      "9 x 6 = 54\n",
      "9 x 7 = 63\n",
      "9 x 8 = 72\n",
      "9 x 9 = 81\n",
      "9 x 10 = 90\n",
      "\n",
      "10 x 1 = 10\n",
      "10 x 2 = 20\n",
      "10 x 3 = 30\n",
      "10 x 4 = 40\n",
      "10 x 5 = 50\n",
      "10 x 6 = 60\n",
      "10 x 7 = 70\n",
      "10 x 8 = 80\n",
      "10 x 9 = 90\n",
      "10 x 10 = 100\n",
      "\n"
     ]
    }
   ],
   "source": [
    "for i in range(1, 11):\n",
    "    for j in range(1, 11):\n",
    "        print(f\"{i} x {j} = {i * j}\")\n",
    "    print()"
   ]
  },
  {
   "cell_type": "markdown",
   "id": "74d04ef5-ed35-40ce-b5d1-6b21465b9160",
   "metadata": {},
   "source": [
    "Buat program untuk menghitung jumlah bilangan ganjil antara dua bilangan yang diberikan"
   ]
  },
  {
   "cell_type": "code",
   "execution_count": 27,
   "id": "3ba1ce54-d9cc-4dfe-8b17-cea46560e716",
   "metadata": {},
   "outputs": [
    {
     "name": "stdout",
     "output_type": "stream",
     "text": [
      "Sum of odd numbers between 1 and 10 is 25\n"
     ]
    }
   ],
   "source": [
    "start = 1\n",
    "end = 10\n",
    "sum_odds = sum(i for i in range(start, end + 1) if i % 2 != 0)\n",
    "print(f\"Sum of odd numbers between {start} and {end} is {sum_odds}\")"
   ]
  },
  {
   "cell_type": "markdown",
   "id": "b70cc9e6-ed79-4e17-b952-458ad261845d",
   "metadata": {},
   "source": [
    "Buat fungsi untuk menghitung luas segitiga"
   ]
  },
  {
   "cell_type": "code",
   "execution_count": 28,
   "id": "846ff400-b4f1-430e-b673-6d74e0e60da2",
   "metadata": {},
   "outputs": [
    {
     "name": "stdout",
     "output_type": "stream",
     "text": [
      "25.0\n"
     ]
    }
   ],
   "source": [
    "def triangle_area(base, height):\n",
    "    return 0.5 * base * height\n",
    "\n",
    "print(triangle_area(10, 5))"
   ]
  },
  {
   "cell_type": "markdown",
   "id": "3850774f-4865-427e-b3d0-26411a753ed0",
   "metadata": {},
   "source": [
    "Buat fungsi yang menerima nama dan menampilkan \"Halo, [nama]\""
   ]
  },
  {
   "cell_type": "code",
   "execution_count": 29,
   "id": "0a6f6eb5-59e4-4979-9bd5-a5297ff0e545",
   "metadata": {},
   "outputs": [
    {
     "name": "stdout",
     "output_type": "stream",
     "text": [
      "Halo, Alice\n"
     ]
    }
   ],
   "source": [
    "def greet(name):\n",
    "    print(f\"Halo, {name}\")\n",
    "\n",
    "greet(\"Alice\")"
   ]
  },
  {
   "cell_type": "markdown",
   "id": "85600449-0688-4416-b072-12f65e352eeb",
   "metadata": {},
   "source": [
    "Buat fungsi untuk memeriksa apakah suatu angka adalah bilangan prima"
   ]
  },
  {
   "cell_type": "code",
   "execution_count": 30,
   "id": "e7e4905a-1cf3-4fdc-b3a1-157edccda44e",
   "metadata": {},
   "outputs": [
    {
     "name": "stdout",
     "output_type": "stream",
     "text": [
      "True\n"
     ]
    }
   ],
   "source": [
    "def is_prime(n):\n",
    "    if n <= 1:\n",
    "        return False\n",
    "    for i in range(2, int(n**0.5) + 1):\n",
    "        if n % i == 0:\n",
    "            return False\n",
    "    return True\n",
    "\n",
    "print(is_prime(7))"
   ]
  },
  {
   "cell_type": "markdown",
   "id": "c107ac56-48de-4431-8f50-5e781354fef6",
   "metadata": {},
   "source": [
    "Buat fungsi yang mengembalikan nilai maksimum dari tiga angka"
   ]
  },
  {
   "cell_type": "code",
   "execution_count": 31,
   "id": "ce00c9e6-bb27-4f84-bf55-0bae90510a59",
   "metadata": {},
   "outputs": [
    {
     "name": "stdout",
     "output_type": "stream",
     "text": [
      "7\n"
     ]
    }
   ],
   "source": [
    "def max_of_three(a, b, c):\n",
    "    return max(a, b, c)\n",
    "\n",
    "print(max_of_three(3, 7, 5))"
   ]
  },
  {
   "cell_type": "markdown",
   "id": "ca532ad1-0f29-466a-bf71-a52572a60102",
   "metadata": {},
   "source": [
    "Buat fungsi yang mengkonversi suhu dari Celcius ke Fahrenheit"
   ]
  },
  {
   "cell_type": "code",
   "execution_count": 32,
   "id": "7dbe5130-49a7-46d3-b340-a230c5215163",
   "metadata": {},
   "outputs": [
    {
     "name": "stdout",
     "output_type": "stream",
     "text": [
      "86.0\n"
     ]
    }
   ],
   "source": [
    "def celsius_ke_fahrenheit(celsius):\n",
    "    return (celsius * 9/5) + 32\n",
    "\n",
    "print(celsius_ke_fahrenheit(30))"
   ]
  },
  {
   "cell_type": "markdown",
   "id": "b1114f0b-322e-4e0b-b7d0-41a80ab7a291",
   "metadata": {},
   "source": [
    "Buat fungsi yang menerima dua string dan menggabungkannya."
   ]
  },
  {
   "cell_type": "code",
   "execution_count": 33,
   "id": "c287612a-0084-462c-a8ec-545745726a63",
   "metadata": {},
   "outputs": [
    {
     "name": "stdout",
     "output_type": "stream",
     "text": [
      "Hello, World!\n"
     ]
    }
   ],
   "source": [
    "def gabung(str1, str2):\n",
    "    return str1 + str2\n",
    "\n",
    "print(gabung(\"Hello, \", \"World!\"))"
   ]
  },
  {
   "cell_type": "markdown",
   "id": "f26e181e-e5aa-4dac-b4bb-6805e744d05e",
   "metadata": {},
   "source": [
    "Buat fungsi rekursif untuk menghitung faktorial dari suatu angka."
   ]
  },
  {
   "cell_type": "code",
   "execution_count": 34,
   "id": "978d589b-57a1-479e-902a-4ea1d1a574d6",
   "metadata": {},
   "outputs": [
    {
     "name": "stdout",
     "output_type": "stream",
     "text": [
      "120\n"
     ]
    }
   ],
   "source": [
    "def factorial(n):\n",
    "    if n == 0:\n",
    "        return 1\n",
    "    else:\n",
    "        return n * factorial(n-1)\n",
    "\n",
    "print(factorial(5))"
   ]
  },
  {
   "cell_type": "markdown",
   "id": "c05311c3-7131-469a-a377-6eef4c8cabb2",
   "metadata": {},
   "source": [
    "Buat fungsi untuk menghitung total bilangan dalam sebuah list."
   ]
  },
  {
   "cell_type": "code",
   "execution_count": 37,
   "id": "6b784367-515a-481f-8d17-a47f2c0dd7e6",
   "metadata": {},
   "outputs": [
    {
     "name": "stdout",
     "output_type": "stream",
     "text": [
      "15\n"
     ]
    }
   ],
   "source": [
    "def sum_list(numbers):\n",
    "    return sum(numbers)\n",
    "\n",
    "print(sum_list([1, 2, 3, 4, 5]))"
   ]
  },
  {
   "cell_type": "markdown",
   "id": "473fa5e9-e8e0-4bc6-9629-047d7e302c3c",
   "metadata": {},
   "source": [
    "Buat program yang membuat list dari 5 nama."
   ]
  },
  {
   "cell_type": "code",
   "execution_count": 38,
   "id": "40c401c9-ad23-4601-a715-6a85443b4db9",
   "metadata": {},
   "outputs": [],
   "source": [
    "names = [\"Alice\", \"Bob\", \"Charlie\", \"David\", \"Eve\"]"
   ]
  },
  {
   "cell_type": "markdown",
   "id": "d77236a8-2ff9-41b2-a8c2-e9789febb642",
   "metadata": {},
   "source": [
    "Buat program untuk mengakses elemen pertama dan terakhir dari sebuah list."
   ]
  },
  {
   "cell_type": "code",
   "execution_count": 39,
   "id": "67bd6e4b-e880-478f-b42c-4a4690c97675",
   "metadata": {},
   "outputs": [
    {
     "name": "stdout",
     "output_type": "stream",
     "text": [
      "Alice\n",
      "Eve\n"
     ]
    }
   ],
   "source": [
    "print(names[0])\n",
    "print(names[-1])"
   ]
  },
  {
   "cell_type": "markdown",
   "id": "732428f3-ce3c-44ee-9732-7910d5943ef8",
   "metadata": {},
   "source": [
    "Buat program untuk menambahkan elemen baru ke list."
   ]
  },
  {
   "cell_type": "code",
   "execution_count": 40,
   "id": "c516ead5-cf52-4b38-b141-14ee65966f9b",
   "metadata": {},
   "outputs": [
    {
     "name": "stdout",
     "output_type": "stream",
     "text": [
      "['Alice', 'Bob', 'Charlie', 'David', 'Eve', 'Frank']\n"
     ]
    }
   ],
   "source": [
    "names.append(\"Frank\")\n",
    "print(names)"
   ]
  },
  {
   "cell_type": "markdown",
   "id": "0a7585ac-bcfc-45dd-a1ec-0cbe8c84cd9c",
   "metadata": {},
   "source": [
    "Buat program untuk menghapus elemen tertentu dari list."
   ]
  },
  {
   "cell_type": "code",
   "execution_count": 41,
   "id": "17660d94-3f20-4967-84d5-576c260fd368",
   "metadata": {},
   "outputs": [
    {
     "name": "stdout",
     "output_type": "stream",
     "text": [
      "['Alice', 'Bob', 'David', 'Eve', 'Frank']\n"
     ]
    }
   ],
   "source": [
    "names.remove(\"Charlie\")\n",
    "print(names)"
   ]
  },
  {
   "cell_type": "markdown",
   "id": "e3c9058f-9720-4044-87e4-28f585fd6100",
   "metadata": {},
   "source": [
    "Buat program yang menghitung jumlah elemen dalam list."
   ]
  },
  {
   "cell_type": "code",
   "execution_count": 42,
   "id": "12306823-907f-49a5-81de-a6405fb5e0e9",
   "metadata": {},
   "outputs": [
    {
     "name": "stdout",
     "output_type": "stream",
     "text": [
      "5\n"
     ]
    }
   ],
   "source": [
    "print(len(names))"
   ]
  },
  {
   "cell_type": "markdown",
   "id": "85312b52-b356-4ebc-9b1a-5ac2dc888d21",
   "metadata": {},
   "source": [
    "Buat program yang mengurutkan list angka secara ascending."
   ]
  },
  {
   "cell_type": "code",
   "execution_count": 43,
   "id": "88a9d9dc-b0a0-4d7c-a88b-555c61ffd1fb",
   "metadata": {},
   "outputs": [
    {
     "name": "stdout",
     "output_type": "stream",
     "text": [
      "[1, 1, 3, 4, 5]\n"
     ]
    }
   ],
   "source": [
    "numbers = [3, 1, 4, 1, 5]\n",
    "numbers.sort()\n",
    "print(numbers)"
   ]
  },
  {
   "cell_type": "markdown",
   "id": "b7b3d070-d5f8-4526-9751-4cac76116960",
   "metadata": {},
   "source": [
    "Buat program untuk membuat tuple yang berisi 5 bilangan."
   ]
  },
  {
   "cell_type": "code",
   "execution_count": 44,
   "id": "ca517675-ef61-4400-901a-271d04d0ccb1",
   "metadata": {},
   "outputs": [],
   "source": [
    "numbers_tuple = (1, 2, 3, 4, 5)"
   ]
  },
  {
   "cell_type": "markdown",
   "id": "1edd7494-3c37-4b65-b360-83fc20a9fe49",
   "metadata": {},
   "source": [
    "Buat program untuk memeriksa apakah elemen ada dalam tuple."
   ]
  },
  {
   "cell_type": "code",
   "execution_count": 45,
   "id": "6dc8d5ef-9de6-49e4-991f-7f529abe49b8",
   "metadata": {},
   "outputs": [
    {
     "name": "stdout",
     "output_type": "stream",
     "text": [
      "True\n"
     ]
    }
   ],
   "source": [
    "print(3 in numbers_tuple)  # Output: True"
   ]
  },
  {
   "cell_type": "markdown",
   "id": "e9679a67-c98d-423f-8d32-6dcaddf2f0f6",
   "metadata": {},
   "source": [
    "Buat dictionary untuk menyimpan nama dan nilai siswa."
   ]
  },
  {
   "cell_type": "code",
   "execution_count": 46,
   "id": "a7461ab7-bf63-4dec-aaa5-5f26f297b755",
   "metadata": {},
   "outputs": [],
   "source": [
    "students = {\"Alice\": 85, \"Bob\": 90, \"Charlie\": 78}"
   ]
  },
  {
   "cell_type": "markdown",
   "id": "c7b040d4-1509-45d3-91e8-273a98878418",
   "metadata": {},
   "source": [
    "Buat program untuk menampilkan nilai seorang siswa dari dictionary."
   ]
  },
  {
   "cell_type": "code",
   "execution_count": 47,
   "id": "e5d7fe52-3467-469b-af82-538697cb134d",
   "metadata": {},
   "outputs": [
    {
     "name": "stdout",
     "output_type": "stream",
     "text": [
      "85\n"
     ]
    }
   ],
   "source": [
    "print(students[\"Alice\"])"
   ]
  },
  {
   "cell_type": "markdown",
   "id": "629768f3-d32d-4917-8aa7-6e41ee3be018",
   "metadata": {},
   "source": [
    "Buat program untuk menambahkan siswa baru ke dictionary."
   ]
  },
  {
   "cell_type": "code",
   "execution_count": 48,
   "id": "5c6abbbd-0018-4d99-92ff-c2c1cdb445ea",
   "metadata": {},
   "outputs": [
    {
     "name": "stdout",
     "output_type": "stream",
     "text": [
      "{'Alice': 85, 'Bob': 90, 'Charlie': 78, 'David': 88}\n"
     ]
    }
   ],
   "source": [
    "students[\"David\"] = 88\n",
    "print(students)"
   ]
  },
  {
   "cell_type": "markdown",
   "id": "10b1698b-e5ae-426e-84c3-4230bf1480ee",
   "metadata": {},
   "source": [
    "Buat program yang menghapus entri dari dictionary berdasarkan nama siswa."
   ]
  },
  {
   "cell_type": "code",
   "execution_count": 49,
   "id": "2b5eeec8-c225-40e6-a906-d48af7960b42",
   "metadata": {},
   "outputs": [
    {
     "name": "stdout",
     "output_type": "stream",
     "text": [
      "{'Alice': 85, 'Charlie': 78, 'David': 88}\n"
     ]
    }
   ],
   "source": [
    "del students[\"Bob\"]\n",
    "print(students)"
   ]
  },
  {
   "cell_type": "markdown",
   "id": "88298f04-2c46-41e8-92b9-e9b355aae706",
   "metadata": {},
   "source": [
    "Buat program untuk mengupdate nilai siswa dalam dictionary."
   ]
  },
  {
   "cell_type": "code",
   "execution_count": 50,
   "id": "858ecabd-fd6c-4edf-9d4c-4a1099f2bf67",
   "metadata": {},
   "outputs": [
    {
     "name": "stdout",
     "output_type": "stream",
     "text": [
      "{'Alice': 95, 'Charlie': 78, 'David': 88}\n"
     ]
    }
   ],
   "source": [
    "students[\"Alice\"] = 95\n",
    "print(students)"
   ]
  },
  {
   "cell_type": "markdown",
   "id": "db65f227-9473-468a-a647-d23c08ffbb9f",
   "metadata": {},
   "source": [
    "Buat program yang menampilkan semua nama siswa dari dictionary."
   ]
  },
  {
   "cell_type": "code",
   "execution_count": 51,
   "id": "cdd87a1b-7f2c-4262-99bf-0446f36f3eda",
   "metadata": {},
   "outputs": [
    {
     "name": "stdout",
     "output_type": "stream",
     "text": [
      "dict_keys(['Alice', 'Charlie', 'David'])\n"
     ]
    }
   ],
   "source": [
    "print(students.keys())"
   ]
  },
  {
   "cell_type": "markdown",
   "id": "fd2b29bc-d327-4334-ab38-34a57716aecb",
   "metadata": {},
   "source": [
    "Buat program yang menampilkan semua nilai siswa dari dictionary."
   ]
  },
  {
   "cell_type": "code",
   "execution_count": 52,
   "id": "d0025b94-993e-49b2-9f91-e970d5d848d7",
   "metadata": {},
   "outputs": [
    {
     "name": "stdout",
     "output_type": "stream",
     "text": [
      "dict_values([95, 78, 88])\n"
     ]
    }
   ],
   "source": [
    "print(students.values())"
   ]
  },
  {
   "cell_type": "markdown",
   "id": "433f24ee-bd6d-4818-b9e3-58ab409d62f8",
   "metadata": {},
   "source": [
    "Buat program untuk mengubah nilai menjadi list dari sebuah dictionary."
   ]
  },
  {
   "cell_type": "code",
   "execution_count": 53,
   "id": "7d1ef31b-4b07-4390-99da-50337ee75893",
   "metadata": {},
   "outputs": [
    {
     "name": "stdout",
     "output_type": "stream",
     "text": [
      "[95, 78, 88]\n"
     ]
    }
   ],
   "source": [
    "scores_list = list(students.values())\n",
    "print(scores_list)"
   ]
  },
  {
   "cell_type": "markdown",
   "id": "9f58e624-42b0-4120-a003-841b3b7cdfea",
   "metadata": {},
   "source": [
    "Buat program untuk membuat set yang berisi angka-angka unik."
   ]
  },
  {
   "cell_type": "code",
   "execution_count": 54,
   "id": "997184c7-2538-41f6-9e08-2b3d267dac48",
   "metadata": {},
   "outputs": [],
   "source": [
    "unique_numbers = {1, 2, 3, 4, 5}"
   ]
  },
  {
   "cell_type": "markdown",
   "id": "a4b0fc6c-d2ba-4c8a-9f52-0d5e8078ba33",
   "metadata": {},
   "source": [
    "Buat program yang menambahkan elemen baru ke dalam set."
   ]
  },
  {
   "cell_type": "code",
   "execution_count": 55,
   "id": "4975e510-a053-4454-b9a8-ba5351fa159a",
   "metadata": {},
   "outputs": [
    {
     "name": "stdout",
     "output_type": "stream",
     "text": [
      "{1, 2, 3, 4, 5, 6}\n"
     ]
    }
   ],
   "source": [
    "unique_numbers.add(6)\n",
    "print(unique_numbers)"
   ]
  },
  {
   "cell_type": "markdown",
   "id": "480822c3-4677-47d6-a0db-c00a90b1cccc",
   "metadata": {},
   "source": [
    "Buat program yang menghapus elemen dari set."
   ]
  },
  {
   "cell_type": "code",
   "execution_count": 56,
   "id": "5b4218e3-3b89-45a5-8946-06df935e92ef",
   "metadata": {},
   "outputs": [
    {
     "name": "stdout",
     "output_type": "stream",
     "text": [
      "{1, 2, 4, 5, 6}\n"
     ]
    }
   ],
   "source": [
    "unique_numbers.remove(3)\n",
    "print(unique_numbers)"
   ]
  },
  {
   "cell_type": "markdown",
   "id": "534919d1-246c-4dbc-9a18-36079ed0946d",
   "metadata": {},
   "source": [
    "Buat program yang menampilkan irisan dari dua set."
   ]
  },
  {
   "cell_type": "code",
   "execution_count": 57,
   "id": "16a03d8b-b103-4745-b478-247f249b0515",
   "metadata": {},
   "outputs": [
    {
     "name": "stdout",
     "output_type": "stream",
     "text": [
      "{2, 3}\n"
     ]
    }
   ],
   "source": [
    "set1 = {1, 2, 3}\n",
    "set2 = {2, 3, 4}\n",
    "print(set1.intersection(set2))"
   ]
  },
  {
   "cell_type": "markdown",
   "id": "6427cf22-53fc-4d29-9314-cfb74c4d5420",
   "metadata": {},
   "source": [
    "Buat program yang menampilkan gabungan dari dua set."
   ]
  },
  {
   "cell_type": "code",
   "execution_count": 58,
   "id": "fe7be54b-d3e6-44dc-bade-f379ce2f8a4f",
   "metadata": {},
   "outputs": [
    {
     "name": "stdout",
     "output_type": "stream",
     "text": [
      "{1, 2, 3, 4}\n"
     ]
    }
   ],
   "source": [
    "print(set1.union(set2))"
   ]
  },
  {
   "cell_type": "markdown",
   "id": "d8a98d51-801c-470b-a708-14562ce5221f",
   "metadata": {},
   "source": [
    "Buat program yang mengecek apakah satu set merupakan subset dari set lain."
   ]
  },
  {
   "cell_type": "code",
   "execution_count": 59,
   "id": "ed2b13fe-5bc5-4580-825a-56ba33775bb2",
   "metadata": {},
   "outputs": [
    {
     "name": "stdout",
     "output_type": "stream",
     "text": [
      "False\n"
     ]
    }
   ],
   "source": [
    "print(set1.issubset(set2))"
   ]
  },
  {
   "cell_type": "markdown",
   "id": "5df58540-ce98-4fb0-9cec-e93af4e88728",
   "metadata": {},
   "source": [
    "Buat program yang menampilkan perbedaan dari dua set."
   ]
  },
  {
   "cell_type": "code",
   "execution_count": 60,
   "id": "bf924787-1644-40f0-a594-e075413563f0",
   "metadata": {},
   "outputs": [
    {
     "name": "stdout",
     "output_type": "stream",
     "text": [
      "{1}\n"
     ]
    }
   ],
   "source": [
    "print(set1.difference(set2))"
   ]
  },
  {
   "cell_type": "markdown",
   "id": "269a51b7-66f6-4be2-8e71-3efa7cf6b697",
   "metadata": {},
   "source": [
    "Buat program untuk menghitung elemen unik dalam sebuah list menggunakan set."
   ]
  },
  {
   "cell_type": "code",
   "execution_count": 61,
   "id": "664ad4ae-3b28-407c-a967-85acbf64f54c",
   "metadata": {},
   "outputs": [
    {
     "name": "stdout",
     "output_type": "stream",
     "text": [
      "5\n"
     ]
    }
   ],
   "source": [
    "numbers = [1, 2, 2, 3, 4, 4, 4, 5]\n",
    "unique_numbers = set(numbers)\n",
    "print(len(unique_numbers))"
   ]
  },
  {
   "cell_type": "markdown",
   "id": "95bae20b-83a0-4a12-be02-1308dbc4f601",
   "metadata": {},
   "source": [
    "Buat program yang membuat dan menulis teks ke dalam file."
   ]
  },
  {
   "cell_type": "code",
   "execution_count": 62,
   "id": "87e76ec6-f884-45f3-8aec-224dc0760e56",
   "metadata": {},
   "outputs": [],
   "source": [
    "with open(\"example.txt\", \"w\") as file:\n",
    "    file.write(\"Hello, world!\")"
   ]
  },
  {
   "cell_type": "markdown",
   "id": "5d914fff-bdf8-4aac-8401-3bf551d46e52",
   "metadata": {},
   "source": [
    "Buat program yang membaca isi dari file teks."
   ]
  },
  {
   "cell_type": "code",
   "execution_count": 63,
   "id": "b4ba4743-7787-4b96-b71c-17813872ebf2",
   "metadata": {},
   "outputs": [
    {
     "name": "stdout",
     "output_type": "stream",
     "text": [
      "Hello, world!\n"
     ]
    }
   ],
   "source": [
    "with open(\"example.txt\", \"r\") as file:\n",
    "    content = file.read()\n",
    "    print(content)"
   ]
  },
  {
   "cell_type": "markdown",
   "id": "d888fafb-6c58-4911-9269-4629e240884f",
   "metadata": {},
   "source": [
    "Buat program untuk menambahkan teks baru ke file yang sudah ada."
   ]
  },
  {
   "cell_type": "code",
   "execution_count": 64,
   "id": "52e6b3ef-313e-4d6c-b6bf-507299924e4d",
   "metadata": {},
   "outputs": [],
   "source": [
    "with open(\"example.txt\", \"a\") as file:\n",
    "    file.write(\"\\nNew line added.\")"
   ]
  },
  {
   "cell_type": "markdown",
   "id": "7909009f-986f-4487-95f1-6c75b07e204c",
   "metadata": {},
   "source": [
    "Buat program yang menampilkan isi file baris per baris."
   ]
  },
  {
   "cell_type": "code",
   "execution_count": 65,
   "id": "f54a880f-2c15-4ec5-9ba7-aa486c608b79",
   "metadata": {},
   "outputs": [
    {
     "name": "stdout",
     "output_type": "stream",
     "text": [
      "Hello, world!\n",
      "New line added."
     ]
    }
   ],
   "source": [
    "with open(\"example.txt\", \"r\") as file:\n",
    "    for line in file:\n",
    "        print(line, end=\"\")"
   ]
  },
  {
   "cell_type": "markdown",
   "id": "23f29e70-c048-44ad-b2fd-b83dfa5799e0",
   "metadata": {},
   "source": [
    "Buat program yang menghitung jumlah kata dalam sebuah file."
   ]
  },
  {
   "cell_type": "code",
   "execution_count": 66,
   "id": "c3c8869e-120a-43d1-bddc-c6ef27d7d8e8",
   "metadata": {},
   "outputs": [
    {
     "name": "stdout",
     "output_type": "stream",
     "text": [
      "5\n"
     ]
    }
   ],
   "source": [
    "with open(\"example.txt\", \"r\") as file:\n",
    "    content = file.read()\n",
    "    word_count = len(content.split())\n",
    "    print(word_count)"
   ]
  },
  {
   "cell_type": "markdown",
   "id": "1f3f806f-7fd1-4cd6-ad03-4e023b979444",
   "metadata": {},
   "source": [
    "Buat program untuk menghapus file."
   ]
  },
  {
   "cell_type": "code",
   "execution_count": 67,
   "id": "12d0690d-e341-465a-91b4-0527bc4a4c67",
   "metadata": {},
   "outputs": [],
   "source": [
    "import os\n",
    "os.remove(\"example.txt\")"
   ]
  },
  {
   "cell_type": "markdown",
   "id": "df30548b-9579-4000-a1ae-577d145778dc",
   "metadata": {},
   "source": [
    "Buat program yang memeriksa apakah sebuah file ada atau tidak."
   ]
  },
  {
   "cell_type": "code",
   "execution_count": 68,
   "id": "c785860d-6eea-4157-9b31-bb77eec34ac5",
   "metadata": {},
   "outputs": [
    {
     "name": "stdout",
     "output_type": "stream",
     "text": [
      "File does not exist\n"
     ]
    }
   ],
   "source": [
    "if os.path.exists(\"example.txt\"):\n",
    "    print(\"File exists\")\n",
    "else:\n",
    "    print(\"File does not exist\")"
   ]
  },
  {
   "cell_type": "markdown",
   "id": "451621c8-f3b9-4568-bf1e-f2915b1995dc",
   "metadata": {},
   "source": [
    "Buat program yang meng-copy isi file ke file lain."
   ]
  },
  {
   "cell_type": "code",
   "execution_count": 69,
   "id": "be6a589c-0191-4dba-9c11-aaf1ff4f47ae",
   "metadata": {},
   "outputs": [],
   "source": [
    "with open(\"example.txt\", \"w\") as file:\n",
    "    file.write(\"Hello, world!\")\n",
    "\n",
    "with open(\"example.txt\", \"r\") as src:\n",
    "    with open(\"copy.txt\", \"w\") as dst:\n",
    "        dst.write(src.read())"
   ]
  },
  {
   "cell_type": "markdown",
   "id": "7e0662bf-4c11-472c-9515-b8ae3cb4d5db",
   "metadata": {},
   "source": [
    "Buat program untuk membuat list dari angka 1 sampai 10 menggunakan list comprehension."
   ]
  },
  {
   "cell_type": "code",
   "execution_count": 70,
   "id": "dde8ef7c-b694-4cab-a1ba-315f7c82ffcc",
   "metadata": {},
   "outputs": [
    {
     "name": "stdout",
     "output_type": "stream",
     "text": [
      "[1, 2, 3, 4, 5, 6, 7, 8, 9, 10]\n"
     ]
    }
   ],
   "source": [
    "numbers = [x for x in range(1, 11)]\n",
    "print(numbers)"
   ]
  },
  {
   "cell_type": "markdown",
   "id": "361b4826-20c9-4dff-a1c1-c5654860945d",
   "metadata": {},
   "source": [
    "Buat program untuk membuat list bilangan genap dari 1 sampai 20."
   ]
  },
  {
   "cell_type": "code",
   "execution_count": 71,
   "id": "d2aec126-6021-44a5-93be-292f4735679c",
   "metadata": {},
   "outputs": [
    {
     "name": "stdout",
     "output_type": "stream",
     "text": [
      "[2, 4, 6, 8, 10, 12, 14, 16, 18, 20]\n"
     ]
    }
   ],
   "source": [
    "evens = [x for x in range(1, 21) if x % 2 == 0]\n",
    "print(evens)"
   ]
  },
  {
   "cell_type": "markdown",
   "id": "a968be24-959c-435e-9913-3a99613422a0",
   "metadata": {},
   "source": [
    "Buat program untuk membuat list bilangan kuadrat dari 1 sampai 10."
   ]
  },
  {
   "cell_type": "code",
   "execution_count": 72,
   "id": "e38c4572-be88-4d17-b3bf-6f7cee861143",
   "metadata": {},
   "outputs": [
    {
     "name": "stdout",
     "output_type": "stream",
     "text": [
      "[1, 4, 9, 16, 25, 36, 49, 64, 81, 100]\n"
     ]
    }
   ],
   "source": [
    "squares = [x**2 for x in range(1, 11)]\n",
    "print(squares)"
   ]
  },
  {
   "cell_type": "markdown",
   "id": "04e6d3da-186e-42d3-8359-3df938fbb908",
   "metadata": {},
   "source": [
    "Buat program untuk mengubah setiap elemen dalam list menjadi huruf besar."
   ]
  },
  {
   "cell_type": "code",
   "execution_count": 73,
   "id": "81f56019-92ae-4d77-a813-29587ed058e9",
   "metadata": {},
   "outputs": [
    {
     "name": "stdout",
     "output_type": "stream",
     "text": [
      "['HELLO', 'WORLD']\n"
     ]
    }
   ],
   "source": [
    "words = [\"hello\", \"world\"]\n",
    "upper_words = [word.upper() for word in words]\n",
    "print(upper_words)"
   ]
  },
  {
   "cell_type": "markdown",
   "id": "c11078e6-a684-4a09-bbce-5c45ef8cb982",
   "metadata": {},
   "source": [
    "Buat program yang menyaring elemen dalam list jika lebih besar dari 5."
   ]
  },
  {
   "cell_type": "code",
   "execution_count": 74,
   "id": "ae2b21b9-6257-442d-a325-dc861797eddb",
   "metadata": {},
   "outputs": [
    {
     "name": "stdout",
     "output_type": "stream",
     "text": [
      "[6, 7, 8]\n"
     ]
    }
   ],
   "source": [
    "numbers = [1, 2, 3, 6, 7, 8]\n",
    "filtered = [x for x in numbers if x > 5]\n",
    "print(filtered)"
   ]
  },
  {
   "cell_type": "markdown",
   "id": "b19f379d-1dd4-4ddf-8d1d-be394c56110d",
   "metadata": {},
   "source": [
    "Buat program untuk membuat list huruf vokal dari string."
   ]
  },
  {
   "cell_type": "code",
   "execution_count": 75,
   "id": "643e6c53-1277-46d3-a022-4a6c7ed8b87f",
   "metadata": {},
   "outputs": [
    {
     "name": "stdout",
     "output_type": "stream",
     "text": [
      "['e', 'o', 'o']\n"
     ]
    }
   ],
   "source": [
    "string = \"hello world\"\n",
    "vowels = [char for char in string if char in 'aeiou']\n",
    "print(vowels)"
   ]
  },
  {
   "cell_type": "markdown",
   "id": "a1b9fc0b-7190-4d2a-9596-d0b2330e58a2",
   "metadata": {},
   "source": [
    "Buat program yang menangkap kesalahan pembagian dengan nol."
   ]
  },
  {
   "cell_type": "raw",
   "id": "3b065ec8-ca10-4268-84f8-13a277088dad",
   "metadata": {},
   "source": [
    "Exception"
   ]
  },
  {
   "cell_type": "code",
   "execution_count": 76,
   "id": "909f450f-e56d-4056-89bf-68ce89fd2bf1",
   "metadata": {},
   "outputs": [
    {
     "ename": "ZeroDivisionError",
     "evalue": "division by zero",
     "output_type": "error",
     "traceback": [
      "\u001b[1;31m---------------------------------------------------------------------------\u001b[0m",
      "\u001b[1;31mZeroDivisionError\u001b[0m                         Traceback (most recent call last)",
      "Cell \u001b[1;32mIn[76], line 1\u001b[0m\n\u001b[1;32m----> 1\u001b[0m result \u001b[38;5;241m=\u001b[39m \u001b[38;5;241;43m10\u001b[39;49m\u001b[38;5;241;43m/\u001b[39;49m\u001b[38;5;241;43m0\u001b[39;49m\n\u001b[0;32m      2\u001b[0m \u001b[38;5;28mprint\u001b[39m(result)\n",
      "\u001b[1;31mZeroDivisionError\u001b[0m: division by zero"
     ]
    }
   ],
   "source": [
    "result = 10/0\n",
    "print(result)"
   ]
  },
  {
   "cell_type": "code",
   "execution_count": 77,
   "id": "b4e6c741-6962-47da-b768-7a57aad054f2",
   "metadata": {},
   "outputs": [
    {
     "name": "stdout",
     "output_type": "stream",
     "text": [
      "Division by zero is not allowed\n"
     ]
    }
   ],
   "source": [
    "try:\n",
    "    result = 10 / 0\n",
    "except ZeroDivisionError:\n",
    "    print(\"Division by zero is not allowed\")"
   ]
  },
  {
   "cell_type": "markdown",
   "id": "92a3289b-d759-471b-96c3-ae5bc9554eab",
   "metadata": {},
   "source": [
    "Buat program yang menangkap kesalahan input yang bukan angka."
   ]
  },
  {
   "cell_type": "code",
   "execution_count": 78,
   "id": "1acd8a27-c456-4093-a53c-8d2bf6931628",
   "metadata": {},
   "outputs": [
    {
     "ename": "ValueError",
     "evalue": "invalid literal for int() with base 10: 'ini angka'",
     "output_type": "error",
     "traceback": [
      "\u001b[1;31m---------------------------------------------------------------------------\u001b[0m",
      "\u001b[1;31mValueError\u001b[0m                                Traceback (most recent call last)",
      "Cell \u001b[1;32mIn[78], line 2\u001b[0m\n\u001b[0;32m      1\u001b[0m angka \u001b[38;5;241m=\u001b[39m \u001b[38;5;124m'\u001b[39m\u001b[38;5;124mini angka\u001b[39m\u001b[38;5;124m'\u001b[39m\n\u001b[1;32m----> 2\u001b[0m \u001b[38;5;28mprint\u001b[39m(\u001b[38;5;28;43mint\u001b[39;49m\u001b[43m(\u001b[49m\u001b[43mangka\u001b[49m\u001b[43m)\u001b[49m)\n",
      "\u001b[1;31mValueError\u001b[0m: invalid literal for int() with base 10: 'ini angka'"
     ]
    }
   ],
   "source": [
    "angka = 'ini angka'\n",
    "print(int(angka))"
   ]
  },
  {
   "cell_type": "code",
   "execution_count": 79,
   "id": "1f07886a-3472-4a17-a139-741dbbb66592",
   "metadata": {},
   "outputs": [
    {
     "name": "stdout",
     "output_type": "stream",
     "text": [
      "\n"
     ]
    }
   ],
   "source": [
    "angka = 'ini angka'\n",
    "try:\n",
    "  angka = int(angka)\n",
    "except ValueError:\n",
    "  print(\"\")"
   ]
  },
  {
   "cell_type": "code",
   "execution_count": 80,
   "id": "d16fb1f7-dcd5-4911-9706-5fd3e6e947d0",
   "metadata": {},
   "outputs": [
    {
     "name": "stdin",
     "output_type": "stream",
     "text": [
      "Enter a number:  a\n"
     ]
    },
    {
     "name": "stdout",
     "output_type": "stream",
     "text": [
      "Input is not a valid number\n"
     ]
    }
   ],
   "source": [
    "try:\n",
    "    number = int(input(\"Enter a number: \"))\n",
    "except ValueError:\n",
    "    print(\"Input is not a valid number\")"
   ]
  },
  {
   "cell_type": "markdown",
   "id": "ef7f6621-25d1-4fd8-aaa2-716ee2d2f845",
   "metadata": {},
   "source": [
    "Buat program yang menangkap kesalahan akses elemen list di luar indeks."
   ]
  },
  {
   "cell_type": "code",
   "execution_count": 81,
   "id": "6198c4b1-4204-41e8-84d6-f6b84c64abc6",
   "metadata": {},
   "outputs": [
    {
     "name": "stdout",
     "output_type": "stream",
     "text": [
      "Index out of range\n"
     ]
    }
   ],
   "source": [
    "my_list = [1, 2, 3]\n",
    "try:\n",
    "    print(my_list[5])\n",
    "except IndexError:\n",
    "    print(\"Index out of range\")"
   ]
  },
  {
   "cell_type": "markdown",
   "id": "3eb231f2-01b2-4a21-8dcc-5d5d2fae74ba",
   "metadata": {},
   "source": [
    "Buat program yang menangani beberapa tipe kesalahan dengan exception yang berbeda."
   ]
  },
  {
   "cell_type": "code",
   "execution_count": 82,
   "id": "d064b781-3fde-48d7-92aa-214d2df5f369",
   "metadata": {},
   "outputs": [
    {
     "name": "stdin",
     "output_type": "stream",
     "text": [
      "Enter a number:  a\n"
     ]
    },
    {
     "name": "stdout",
     "output_type": "stream",
     "text": [
      "Input is not a valid number\n"
     ]
    }
   ],
   "source": [
    "try:\n",
    "    result = 10 / int(input(\"Enter a number: \"))\n",
    "except ValueError:\n",
    "    print(\"Input is not a valid number\")\n",
    "except ZeroDivisionError:\n",
    "    print(\"Cannot divide by zero\")"
   ]
  },
  {
   "cell_type": "markdown",
   "id": "e85e5b2a-e646-4957-8044-ddd092fe4df0",
   "metadata": {},
   "source": [
    "Buat program yang menggunakan finally untuk menampilkan pesan setelah exception."
   ]
  },
  {
   "cell_type": "code",
   "execution_count": 83,
   "id": "2f6d47d2-b29c-47ba-98ee-9689d73478a2",
   "metadata": {},
   "outputs": [
    {
     "name": "stdout",
     "output_type": "stream",
     "text": [
      "Division by zero is not allowed\n",
      "This will execute regardless of an exception\n"
     ]
    }
   ],
   "source": [
    "try:\n",
    "    result = 10 / 0\n",
    "except ZeroDivisionError:\n",
    "    print(\"Division by zero is not allowed\")\n",
    "finally:\n",
    "    print(\"This will execute regardless of an exception\")"
   ]
  },
  {
   "cell_type": "markdown",
   "id": "f03a0594-600c-4aed-bd79-49e1472dfd5a",
   "metadata": {},
   "source": [
    "Buat class `Mahasiswa` yang memiliki atribut nama dan umur."
   ]
  },
  {
   "cell_type": "code",
   "execution_count": 84,
   "id": "269e2df1-db7a-4b24-9dad-d343f43da991",
   "metadata": {},
   "outputs": [],
   "source": [
    "from sklearn.linear_model import LinearRegression"
   ]
  },
  {
   "cell_type": "code",
   "execution_count": 85,
   "id": "ac9e1785-e290-41f0-ac02-2b679a6671c4",
   "metadata": {},
   "outputs": [
    {
     "ename": "TypeError",
     "evalue": "LinearRegression.fit() missing 2 required positional arguments: 'X' and 'y'",
     "output_type": "error",
     "traceback": [
      "\u001b[1;31m---------------------------------------------------------------------------\u001b[0m",
      "\u001b[1;31mTypeError\u001b[0m                                 Traceback (most recent call last)",
      "Cell \u001b[1;32mIn[85], line 1\u001b[0m\n\u001b[1;32m----> 1\u001b[0m \u001b[43mLinearRegression\u001b[49m\u001b[43m(\u001b[49m\u001b[43m)\u001b[49m\u001b[38;5;241;43m.\u001b[39;49m\u001b[43mfit\u001b[49m\u001b[43m(\u001b[49m\u001b[43m)\u001b[49m\n",
      "\u001b[1;31mTypeError\u001b[0m: LinearRegression.fit() missing 2 required positional arguments: 'X' and 'y'"
     ]
    }
   ],
   "source": [
    "LinearRegression().fit()"
   ]
  },
  {
   "cell_type": "code",
   "execution_count": 86,
   "id": "e53894bf-ccbb-4b3f-aa5b-2b9eccb755e8",
   "metadata": {},
   "outputs": [],
   "source": [
    "class Mahasiswa:\n",
    "    def __init__(self, nama, umur):\n",
    "        self.nama = nama\n",
    "        self.umur = umur"
   ]
  },
  {
   "cell_type": "markdown",
   "id": "ae59700c-3c8a-4dc8-8b6f-28c008647073",
   "metadata": {},
   "source": [
    "Buat method dalam class untuk menampilkan informasi mahasiswa."
   ]
  },
  {
   "cell_type": "code",
   "execution_count": 87,
   "id": "6eef0b07-2229-44b3-b9fd-fb0883b18722",
   "metadata": {},
   "outputs": [],
   "source": [
    "class Mahasiswa:\n",
    "    def __init__(self, nama, umur, jenis_kelamin):\n",
    "        self.nama = nama\n",
    "        self.u = umur\n",
    "        self.jk = jenis_kelamin\n",
    "\n",
    "    def tampilkan_informasi(self):\n",
    "        print(f\"Nama: {self.nama}, Umur: {self.u}, Jenis Kelamin : {self.jk}\")"
   ]
  },
  {
   "cell_type": "code",
   "execution_count": 88,
   "id": "6b95f858-874f-4fd0-a7f8-4dd2f4fdb8f4",
   "metadata": {},
   "outputs": [
    {
     "name": "stdout",
     "output_type": "stream",
     "text": [
      "Nama: yanto, Umur: 98, Jenis Kelamin : Laki-laki\n"
     ]
    }
   ],
   "source": [
    "mhs = Mahasiswa('yanto', 98, 'Laki-laki')\n",
    "mhs.tampilkan_informasi() #memanggil fungsi untuk menampilkan informasi"
   ]
  },
  {
   "cell_type": "markdown",
   "id": "d7b39347-be9a-47f1-8686-3c28716db12a",
   "metadata": {},
   "source": [
    "Buat program untuk menginisialisasi objek dari class `Mahasiswa`."
   ]
  },
  {
   "cell_type": "code",
   "execution_count": 92,
   "id": "bd8a457f-aa07-4161-bf3e-73a280c41cc7",
   "metadata": {},
   "outputs": [
    {
     "name": "stdout",
     "output_type": "stream",
     "text": [
      "Nama: Alice, Umur: 20, Jenis Kelamin : perempuan\n"
     ]
    }
   ],
   "source": [
    "mahasiswa1 = Mahasiswa(\"Alice\", 20, \"perempuan\")\n",
    "mahasiswa1.tampilkan_informasi()"
   ]
  },
  {
   "cell_type": "markdown",
   "id": "b58355f6-25dd-45da-ad53-339c0f227137",
   "metadata": {},
   "source": [
    "Buat program yang menggunakan constructor dalam class."
   ]
  },
  {
   "cell_type": "code",
   "execution_count": 93,
   "id": "2fc9a5ea-ce7e-4478-8165-64d385344861",
   "metadata": {},
   "outputs": [
    {
     "name": "stdout",
     "output_type": "stream",
     "text": [
      "John\n"
     ]
    }
   ],
   "source": [
    "class Person:\n",
    "    def __init__(self, name):\n",
    "        self.name = name\n",
    "\n",
    "person = Person(\"John\")\n",
    "print(person.name)"
   ]
  },
  {
   "cell_type": "markdown",
   "id": "f3bcd289-84cc-4df4-867f-bbcd40115f8b",
   "metadata": {},
   "source": [
    "Buat program yang menggunakan inheritance untuk class Person dan Mahasiswa."
   ]
  },
  {
   "cell_type": "code",
   "execution_count": 94,
   "id": "99d0a9ca-40f4-4c5e-a266-610cd0674550",
   "metadata": {},
   "outputs": [
    {
     "name": "stdout",
     "output_type": "stream",
     "text": [
      "Alice 20\n"
     ]
    }
   ],
   "source": [
    "class Person:\n",
    "    def __init__(self, name):\n",
    "        self.name = name\n",
    "\n",
    "class Mahasiswa(Person):\n",
    "    def __init__(self, name, umur):\n",
    "        super().__init__(name)\n",
    "        self.umur = umur\n",
    "\n",
    "mahasiswa = Mahasiswa(\"Alice\", 20)\n",
    "print(mahasiswa.name, mahasiswa.umur)"
   ]
  },
  {
   "cell_type": "markdown",
   "id": "3691928b-18f1-40dc-885f-c77084d4272a",
   "metadata": {},
   "source": [
    "Buat program yang menggunakan method overriding dalam inheritance."
   ]
  },
  {
   "cell_type": "code",
   "execution_count": 95,
   "id": "4a7d203a-bf8f-4ceb-acce-a1dabe8ca528",
   "metadata": {},
   "outputs": [
    {
     "name": "stdout",
     "output_type": "stream",
     "text": [
      "Dog barks\n"
     ]
    }
   ],
   "source": [
    "class Animal:\n",
    "    def speak(self):\n",
    "        print(\"Animal speaks\")\n",
    "\n",
    "class Dog(Animal):\n",
    "    def speak(self):\n",
    "        print(\"Dog barks\")\n",
    "\n",
    "dog = Dog()\n",
    "dog.speak()"
   ]
  },
  {
   "cell_type": "markdown",
   "id": "451b1c02-3849-44b4-bc0c-bdf4c4e52b8a",
   "metadata": {},
   "source": [
    "Buat program yang menampilkan jumlah objek yang dibuat dari sebuah class."
   ]
  },
  {
   "cell_type": "code",
   "execution_count": 96,
   "id": "5301b1aa-20c7-43e2-8eaf-c2094f2b3e36",
   "metadata": {},
   "outputs": [
    {
     "name": "stdout",
     "output_type": "stream",
     "text": [
      "2\n"
     ]
    }
   ],
   "source": [
    "class Counter:\n",
    "    count = 0\n",
    "\n",
    "    def __init__(self):\n",
    "        Counter.count += 1\n",
    "\n",
    "obj1 = Counter()\n",
    "obj2 = Counter()\n",
    "print(Counter.count)"
   ]
  },
  {
   "cell_type": "markdown",
   "id": "4bc68113-55c0-4dbd-a83a-0fafe5e803c5",
   "metadata": {},
   "source": [
    "Buat program yang membuat class dengan method statis."
   ]
  },
  {
   "cell_type": "code",
   "execution_count": 97,
   "id": "78635392-fbb3-4f9f-8a93-353c867cfeaf",
   "metadata": {},
   "outputs": [
    {
     "name": "stdout",
     "output_type": "stream",
     "text": [
      "12\n"
     ]
    }
   ],
   "source": [
    "class MathUtils:\n",
    "    @staticmethod\n",
    "    def add(a, b):\n",
    "        return a + b\n",
    "\n",
    "print(MathUtils.add(5, 7))"
   ]
  },
  {
   "cell_type": "markdown",
   "id": "6cc9dc1e-01d2-484e-a2b2-935d91b332d9",
   "metadata": {},
   "source": [
    "Buat program yang meng-import modul matematika dan menggunakan fungsi `sqrt`."
   ]
  },
  {
   "cell_type": "code",
   "execution_count": 98,
   "id": "320d8ad7-2c78-4d0c-ac36-6faa05a141d7",
   "metadata": {},
   "outputs": [
    {
     "name": "stdout",
     "output_type": "stream",
     "text": [
      "4.0\n"
     ]
    }
   ],
   "source": [
    "import math\n",
    "print(math.sqrt(16))"
   ]
  },
  {
   "cell_type": "markdown",
   "id": "7debb3a9-41b2-441a-bd92-28bad8f7953b",
   "metadata": {},
   "source": [
    "Buat modul sendiri untuk menghitung luas dan keliling persegi."
   ]
  },
  {
   "cell_type": "code",
   "execution_count": 99,
   "id": "bc0f1aa9-60db-414a-a840-9cd9276976b7",
   "metadata": {},
   "outputs": [],
   "source": [
    "# square.py\n",
    "def area(side):\n",
    "    return side * side\n",
    "\n",
    "def perimeter(side):\n",
    "    return 4 * side"
   ]
  },
  {
   "cell_type": "code",
   "execution_count": 100,
   "id": "13fd8ebd-238d-4828-a1b0-5eab196512de",
   "metadata": {},
   "outputs": [],
   "source": [
    "# cuboid.py\n",
    "def volume(length, width, height):\n",
    "    return length * width * height"
   ]
  },
  {
   "cell_type": "code",
   "execution_count": 101,
   "id": "cda5d70a-c259-4065-9deb-529ad2f8c611",
   "metadata": {},
   "outputs": [],
   "source": [
    "# sphere.py\n",
    "import math\n",
    "def volume(radius):\n",
    "    return (4/3) * math.pi * radius**3"
   ]
  },
  {
   "cell_type": "markdown",
   "id": "0aaf87e6-b6a8-4247-9536-e9e31a6468dd",
   "metadata": {},
   "source": [
    "Buat package untuk menghitung volume berbagai bangun ruang."
   ]
  },
  {
   "cell_type": "code",
   "execution_count": 102,
   "id": "bd4361ce-48fd-423c-8177-f63945e5be72",
   "metadata": {},
   "outputs": [],
   "source": [
    "import math\n",
    "def volume(radius):\n",
    "    return (4/3) * math.pi * radius**3"
   ]
  },
  {
   "cell_type": "markdown",
   "id": "22015dbc-9eb1-444a-9672-d723004ba412",
   "metadata": {},
   "source": [
    "Buat program yang meng-import modul random dan menghasilkan angka acak."
   ]
  },
  {
   "cell_type": "code",
   "execution_count": 103,
   "id": "ba7b62dd-64d2-4a0c-92f8-95a720c16f4e",
   "metadata": {},
   "outputs": [
    {
     "name": "stdout",
     "output_type": "stream",
     "text": [
      "86\n"
     ]
    }
   ],
   "source": [
    "import random\n",
    "print(random.randint(1, 100))"
   ]
  },
  {
   "cell_type": "markdown",
   "id": "9126eadf-281f-4b25-9b4a-3c767a0dd3b9",
   "metadata": {},
   "source": [
    "Buat program yang menggunakan fungsi waktu untuk menghitung lama eksekusi program."
   ]
  },
  {
   "cell_type": "code",
   "execution_count": 104,
   "id": "e1949938-d5a2-42fc-b1de-4d44d4e0c58d",
   "metadata": {},
   "outputs": [
    {
     "name": "stdout",
     "output_type": "stream",
     "text": [
      "Execution time: 1.0132653713226318 seconds\n"
     ]
    }
   ],
   "source": [
    "import time\n",
    "start_time = time.time()\n",
    "\n",
    "time.sleep(1)\n",
    "end_time = time.time()\n",
    "print(\"Execution time:\", end_time - start_time, \"seconds\")"
   ]
  },
  {
   "cell_type": "markdown",
   "id": "6c1f8b60-364b-4885-8522-e9d8dd7a3ba9",
   "metadata": {},
   "source": [
    "Buat fungsi lambda untuk menghitung kuadrat dari sebuah angka."
   ]
  },
  {
   "cell_type": "code",
   "execution_count": 105,
   "id": "af85d2e3-1d5e-4757-970d-830d4f524cfc",
   "metadata": {},
   "outputs": [
    {
     "name": "stdout",
     "output_type": "stream",
     "text": [
      "25\n"
     ]
    }
   ],
   "source": [
    "square = lambda x: x * x\n",
    "print(square(5))"
   ]
  },
  {
   "cell_type": "markdown",
   "id": "bc24e604-3aff-4cf2-8967-d9240ee51de2",
   "metadata": {},
   "source": [
    "Buat program yang menggunakan map untuk menghitung kuadrat dari semua elemen dalam list."
   ]
  },
  {
   "cell_type": "code",
   "execution_count": 106,
   "id": "5e3229da-f332-450a-a8b9-5cafd26f7972",
   "metadata": {},
   "outputs": [
    {
     "name": "stdout",
     "output_type": "stream",
     "text": [
      "[1, 4, 9, 16, 25]\n"
     ]
    }
   ],
   "source": [
    "numbers = [1, 2, 3, 4, 5]\n",
    "squares = list(map(lambda x: x * x, numbers))\n",
    "print(squares)"
   ]
  },
  {
   "cell_type": "markdown",
   "id": "57efacf6-f828-4c51-86de-fffa10e98536",
   "metadata": {},
   "source": [
    "Buat program yang menggunakan `filter` untuk menyaring bilangan ganjil dari list."
   ]
  },
  {
   "cell_type": "code",
   "execution_count": 107,
   "id": "49125983-4503-45f0-abf6-c0c45da88d41",
   "metadata": {},
   "outputs": [
    {
     "name": "stdout",
     "output_type": "stream",
     "text": [
      "[1, 3, 5]\n"
     ]
    }
   ],
   "source": [
    "numbers = [1, 2, 3, 4, 5, 6]\n",
    "odds = list(filter(lambda x: x % 2 != 0, numbers))\n",
    "print(odds)"
   ]
  },
  {
   "cell_type": "markdown",
   "id": "03806492-dc33-439e-b960-252fab1eb882",
   "metadata": {},
   "source": [
    "Buat program yang menggunakan reduce untuk menghitung jumlah semua elemen dalam list."
   ]
  },
  {
   "cell_type": "code",
   "execution_count": 108,
   "id": "f1546696-9fde-454a-8a09-971e19bf1c45",
   "metadata": {},
   "outputs": [
    {
     "name": "stdout",
     "output_type": "stream",
     "text": [
      "15\n"
     ]
    }
   ],
   "source": [
    "from functools import reduce\n",
    "numbers = [1, 2, 3, 4, 5]\n",
    "total = reduce(lambda x, y: x + y, numbers)\n",
    "print(total)"
   ]
  },
  {
   "cell_type": "markdown",
   "id": "3b681099-d177-485b-a51c-57ecb9d5227a",
   "metadata": {},
   "source": [
    "\n",
    "Buat program untuk menghitung jumlah huruf vokal dalam sebuah string."
   ]
  },
  {
   "cell_type": "code",
   "execution_count": 109,
   "id": "62f3fd53-498d-428c-ae35-42ab6bcafe7b",
   "metadata": {},
   "outputs": [
    {
     "name": "stdout",
     "output_type": "stream",
     "text": [
      "3\n"
     ]
    }
   ],
   "source": [
    "string = \"hello world\"\n",
    "vowels = \"aeiou\"\n",
    "count = sum(1 for char in string if char in vowels)\n",
    "print(count)"
   ]
  },
  {
   "cell_type": "markdown",
   "id": "ed1801a6-c2f5-4f4e-9859-2ef44988ab6d",
   "metadata": {},
   "source": [
    "Buat program untuk memeriksa apakah string adalah palindrom."
   ]
  },
  {
   "cell_type": "code",
   "execution_count": 110,
   "id": "459ce2ba-4d51-4e22-9637-dfda3ad115e1",
   "metadata": {},
   "outputs": [
    {
     "name": "stdout",
     "output_type": "stream",
     "text": [
      "True\n"
     ]
    }
   ],
   "source": [
    "def is_palindrome(s):\n",
    "    return s == s[::-1]\n",
    "\n",
    "print(is_palindrome(\"madam\"))"
   ]
  },
  {
   "cell_type": "markdown",
   "id": "0dc447eb-87be-457f-9ae5-1b1baa02fea5",
   "metadata": {},
   "source": [
    "Buat program yang menggunakan nested loop untuk menampilkan pola bintang."
   ]
  },
  {
   "cell_type": "code",
   "execution_count": 111,
   "id": "f1d6c608-6ec0-4ab8-8bda-26939f8a7062",
   "metadata": {},
   "outputs": [
    {
     "name": "stdout",
     "output_type": "stream",
     "text": [
      "*\n",
      "**\n",
      "***\n",
      "****\n",
      "*****\n"
     ]
    }
   ],
   "source": [
    "for i in range(5):\n",
    "    for j in range(i + 1):\n",
    "        print(\"*\", end=\"\")\n",
    "    print()"
   ]
  },
  {
   "cell_type": "markdown",
   "id": "ab4e5886-0818-4cde-bd96-6922a511259d",
   "metadata": {},
   "source": [
    "Buat program untuk menghitung faktorial menggunakan iterasi."
   ]
  },
  {
   "cell_type": "code",
   "execution_count": 112,
   "id": "b8168652-f306-4fcd-92b9-f507a985b067",
   "metadata": {},
   "outputs": [
    {
     "name": "stdout",
     "output_type": "stream",
     "text": [
      "120\n"
     ]
    }
   ],
   "source": [
    "def factorial(n):\n",
    "    result = 1\n",
    "    for i in range(1, n + 1):\n",
    "        result *= i\n",
    "    return result\n",
    "\n",
    "print(factorial(5))"
   ]
  },
  {
   "cell_type": "markdown",
   "id": "61b9d904-91ee-4624-8b00-75b0d4014778",
   "metadata": {},
   "source": [
    "Buat program yang meminta input nama dan umur lalu menampilkannya dengan format tertentu."
   ]
  },
  {
   "cell_type": "code",
   "execution_count": 113,
   "id": "3c36f215-695d-488b-9b5c-cf6db25a12f4",
   "metadata": {},
   "outputs": [
    {
     "name": "stdin",
     "output_type": "stream",
     "text": [
      "Enter your name:  Candra\n",
      "Enter your age:  19\n"
     ]
    },
    {
     "name": "stdout",
     "output_type": "stream",
     "text": [
      "Name: Candra, Age: 19\n"
     ]
    }
   ],
   "source": [
    "name = input(\"Enter your name: \")\n",
    "age = int(input(\"Enter your age: \"))\n",
    "print(f\"Name: {name}, Age: {age}\")"
   ]
  },
  {
   "cell_type": "markdown",
   "id": "614cc43e-e3af-4e42-9556-c70a7a57aefb",
   "metadata": {},
   "source": [
    "Buat program yang membalik urutan elemen dalam list tanpa menggunakan fungsi built-in."
   ]
  },
  {
   "cell_type": "code",
   "execution_count": 114,
   "id": "ac44806b-587b-486e-854c-bb467ad259d1",
   "metadata": {},
   "outputs": [
    {
     "name": "stdout",
     "output_type": "stream",
     "text": [
      "[5, 4, 3, 2, 1]\n"
     ]
    }
   ],
   "source": [
    "my_list = [1, 2, 3, 4, 5]\n",
    "reversed_list = my_list[::-1]\n",
    "print(reversed_list)"
   ]
  },
  {
   "cell_type": "markdown",
   "id": "c596bd84-c766-4de4-8aed-f58dfa4bef72",
   "metadata": {},
   "source": [
    "Buat program yang menampilkan hari saat ini menggunakan modul `datetime`."
   ]
  },
  {
   "cell_type": "code",
   "execution_count": 115,
   "id": "101fafe3-d9fb-4a48-9c55-3da6c132f59a",
   "metadata": {},
   "outputs": [
    {
     "name": "stdout",
     "output_type": "stream",
     "text": [
      "Sunday\n"
     ]
    }
   ],
   "source": [
    "import datetime\n",
    "today = datetime.datetime.now()\n",
    "print(today.strftime(\"%A\"))"
   ]
  },
  {
   "cell_type": "markdown",
   "id": "d24a852e-20f5-4043-8cdc-130cd2742764",
   "metadata": {},
   "source": [
    "Buat program yang menerima dua angka dari input, lalu menampilkan hasil pembagiannya."
   ]
  },
  {
   "cell_type": "code",
   "execution_count": 116,
   "id": "ef8831df-c916-4711-ae6d-089c099b0e12",
   "metadata": {},
   "outputs": [
    {
     "name": "stdin",
     "output_type": "stream",
     "text": [
      "Enter first number:  12\n",
      "Enter second number:  21\n"
     ]
    },
    {
     "name": "stdout",
     "output_type": "stream",
     "text": [
      "0.5714285714285714\n"
     ]
    }
   ],
   "source": [
    "num1 = float(input(\"Enter first number: \"))\n",
    "num2 = float(input(\"Enter second number: \"))\n",
    "\n",
    "if num2 != 0:\n",
    "    print(num1 / num2)\n",
    "else:\n",
    "    print(\"Cannot divide by zero\")"
   ]
  },
  {
   "cell_type": "code",
   "execution_count": null,
   "id": "47f3f5eb-95b9-480c-9f5b-0c0e8c76e259",
   "metadata": {},
   "outputs": [],
   "source": []
  }
 ],
 "metadata": {
  "kernelspec": {
   "display_name": "Python 3 (ipykernel)",
   "language": "python",
   "name": "python3"
  },
  "language_info": {
   "codemirror_mode": {
    "name": "ipython",
    "version": 3
   },
   "file_extension": ".py",
   "mimetype": "text/x-python",
   "name": "python",
   "nbconvert_exporter": "python",
   "pygments_lexer": "ipython3",
   "version": "3.10.9"
  }
 },
 "nbformat": 4,
 "nbformat_minor": 5
}
