{
 "cells": [
  {
   "cell_type": "markdown",
   "id": "c734dc55-16d4-478d-b177-695c399806e0",
   "metadata": {},
   "source": [
    "## Import Library ##"
   ]
  },
  {
   "cell_type": "code",
   "execution_count": 7,
   "id": "6043988c-70b7-4cbc-b3b1-cbd090a20a72",
   "metadata": {},
   "outputs": [],
   "source": [
    "import pandas as pd\n",
    "import numpy as np\n",
    "import matplotlib.pyplot as plt\n",
    "import seaborn as sns\n",
    "\n",
    "from sklearn.impute import SimpleImputer\n",
    "from imblearn.under_sampling import EditedNearestNeighbours\n",
    "from sklearn.model_selection import train_test_split\n",
    "from sklearn.preprocessing import MinMaxScaler, RobustScaler"
   ]
  },
  {
   "cell_type": "markdown",
   "id": "d490db3d-dbef-49f6-aafe-aa3460466615",
   "metadata": {},
   "source": [
    "## Load Data ##"
   ]
  },
  {
   "cell_type": "code",
   "execution_count": 14,
   "id": "5a335984-7759-4b6f-bede-3e4308f53ca8",
   "metadata": {},
   "outputs": [
    {
     "data": {
      "text/html": [
       "<div>\n",
       "<style scoped>\n",
       "    .dataframe tbody tr th:only-of-type {\n",
       "        vertical-align: middle;\n",
       "    }\n",
       "\n",
       "    .dataframe tbody tr th {\n",
       "        vertical-align: top;\n",
       "    }\n",
       "\n",
       "    .dataframe thead th {\n",
       "        text-align: right;\n",
       "    }\n",
       "</style>\n",
       "<table border=\"1\" class=\"dataframe\">\n",
       "  <thead>\n",
       "    <tr style=\"text-align: right;\">\n",
       "      <th></th>\n",
       "      <th>Pregnancies</th>\n",
       "      <th>Glucose</th>\n",
       "      <th>BloodPressure</th>\n",
       "      <th>SkinThickness</th>\n",
       "      <th>Insulin</th>\n",
       "      <th>BMI</th>\n",
       "      <th>DiabetesPedigreeFunction</th>\n",
       "      <th>Age</th>\n",
       "      <th>Outcome</th>\n",
       "    </tr>\n",
       "  </thead>\n",
       "  <tbody>\n",
       "    <tr>\n",
       "      <th>0</th>\n",
       "      <td>6.0</td>\n",
       "      <td>NaN</td>\n",
       "      <td>72.0</td>\n",
       "      <td>35.0</td>\n",
       "      <td>0.0</td>\n",
       "      <td>NaN</td>\n",
       "      <td>0.627</td>\n",
       "      <td>NaN</td>\n",
       "      <td>1</td>\n",
       "    </tr>\n",
       "    <tr>\n",
       "      <th>1</th>\n",
       "      <td>1.0</td>\n",
       "      <td>85.0</td>\n",
       "      <td>66.0</td>\n",
       "      <td>29.0</td>\n",
       "      <td>0.0</td>\n",
       "      <td>NaN</td>\n",
       "      <td>0.351</td>\n",
       "      <td>31.0</td>\n",
       "      <td>0</td>\n",
       "    </tr>\n",
       "    <tr>\n",
       "      <th>2</th>\n",
       "      <td>8.0</td>\n",
       "      <td>183.0</td>\n",
       "      <td>64.0</td>\n",
       "      <td>0.0</td>\n",
       "      <td>0.0</td>\n",
       "      <td>23.3</td>\n",
       "      <td>0.672</td>\n",
       "      <td>32.0</td>\n",
       "      <td>1</td>\n",
       "    </tr>\n",
       "    <tr>\n",
       "      <th>3</th>\n",
       "      <td>1.0</td>\n",
       "      <td>89.0</td>\n",
       "      <td>66.0</td>\n",
       "      <td>23.0</td>\n",
       "      <td>94.0</td>\n",
       "      <td>28.1</td>\n",
       "      <td>0.167</td>\n",
       "      <td>21.0</td>\n",
       "      <td>0</td>\n",
       "    </tr>\n",
       "    <tr>\n",
       "      <th>4</th>\n",
       "      <td>0.0</td>\n",
       "      <td>NaN</td>\n",
       "      <td>40.0</td>\n",
       "      <td>35.0</td>\n",
       "      <td>168.0</td>\n",
       "      <td>43.1</td>\n",
       "      <td>NaN</td>\n",
       "      <td>33.0</td>\n",
       "      <td>1</td>\n",
       "    </tr>\n",
       "  </tbody>\n",
       "</table>\n",
       "</div>"
      ],
      "text/plain": [
       "   Pregnancies  Glucose  BloodPressure  SkinThickness  Insulin   BMI  \\\n",
       "0          6.0      NaN           72.0           35.0      0.0   NaN   \n",
       "1          1.0     85.0           66.0           29.0      0.0   NaN   \n",
       "2          8.0    183.0           64.0            0.0      0.0  23.3   \n",
       "3          1.0     89.0           66.0           23.0     94.0  28.1   \n",
       "4          0.0      NaN           40.0           35.0    168.0  43.1   \n",
       "\n",
       "   DiabetesPedigreeFunction   Age  Outcome  \n",
       "0                     0.627   NaN        1  \n",
       "1                     0.351  31.0        0  \n",
       "2                     0.672  32.0        1  \n",
       "3                     0.167  21.0        0  \n",
       "4                       NaN  33.0        1  "
      ]
     },
     "execution_count": 14,
     "metadata": {},
     "output_type": "execute_result"
    }
   ],
   "source": [
    "df = pd.read_csv('diabetes.csv')\n",
    "df.head()"
   ]
  },
  {
   "cell_type": "markdown",
   "id": "5e3ff1c5-5a67-445b-829d-e88b50e9f414",
   "metadata": {},
   "source": [
    "## Data Prepocessing & Data Understanding ##"
   ]
  },
  {
   "cell_type": "code",
   "execution_count": 20,
   "id": "3db30a10-1afd-4000-9000-e0985d3458e4",
   "metadata": {},
   "outputs": [
    {
     "name": "stdout",
     "output_type": "stream",
     "text": [
      "<class 'pandas.core.frame.DataFrame'>\n",
      "RangeIndex: 768 entries, 0 to 767\n",
      "Data columns (total 9 columns):\n",
      " #   Column                    Non-Null Count  Dtype  \n",
      "---  ------                    --------------  -----  \n",
      " 0   Pregnancies               691 non-null    float64\n",
      " 1   Glucose                   653 non-null    float64\n",
      " 2   BloodPressure             614 non-null    float64\n",
      " 3   SkinThickness             730 non-null    float64\n",
      " 4   Insulin                   576 non-null    float64\n",
      " 5   BMI                       538 non-null    float64\n",
      " 6   DiabetesPedigreeFunction  691 non-null    float64\n",
      " 7   Age                       614 non-null    float64\n",
      " 8   Outcome                   768 non-null    int64  \n",
      "dtypes: float64(8), int64(1)\n",
      "memory usage: 54.1 KB\n"
     ]
    }
   ],
   "source": [
    "df.info()"
   ]
  },
  {
   "cell_type": "code",
   "execution_count": 22,
   "id": "0a0602b9-7d33-4209-87f7-235baf1a9554",
   "metadata": {},
   "outputs": [
    {
     "data": {
      "text/plain": [
       "Pregnancies                  77\n",
       "Glucose                     115\n",
       "BloodPressure               154\n",
       "SkinThickness                38\n",
       "Insulin                     192\n",
       "BMI                         230\n",
       "DiabetesPedigreeFunction     77\n",
       "Age                         154\n",
       "Outcome                       0\n",
       "dtype: int64"
      ]
     },
     "execution_count": 22,
     "metadata": {},
     "output_type": "execute_result"
    }
   ],
   "source": [
    "df.isna().sum()"
   ]
  },
  {
   "cell_type": "code",
   "execution_count": 25,
   "id": "adb3877f-2512-4fff-b167-9f9b6d5eb751",
   "metadata": {},
   "outputs": [
    {
     "data": {
      "text/html": [
       "<div>\n",
       "<style scoped>\n",
       "    .dataframe tbody tr th:only-of-type {\n",
       "        vertical-align: middle;\n",
       "    }\n",
       "\n",
       "    .dataframe tbody tr th {\n",
       "        vertical-align: top;\n",
       "    }\n",
       "\n",
       "    .dataframe thead th {\n",
       "        text-align: right;\n",
       "    }\n",
       "</style>\n",
       "<table border=\"1\" class=\"dataframe\">\n",
       "  <thead>\n",
       "    <tr style=\"text-align: right;\">\n",
       "      <th></th>\n",
       "      <th>Missing Values</th>\n",
       "      <th>Missing Percentage</th>\n",
       "    </tr>\n",
       "  </thead>\n",
       "  <tbody>\n",
       "    <tr>\n",
       "      <th>Pregnancies</th>\n",
       "      <td>77</td>\n",
       "      <td>10.026042</td>\n",
       "    </tr>\n",
       "    <tr>\n",
       "      <th>Glucose</th>\n",
       "      <td>115</td>\n",
       "      <td>14.973958</td>\n",
       "    </tr>\n",
       "    <tr>\n",
       "      <th>BloodPressure</th>\n",
       "      <td>154</td>\n",
       "      <td>20.052083</td>\n",
       "    </tr>\n",
       "    <tr>\n",
       "      <th>SkinThickness</th>\n",
       "      <td>38</td>\n",
       "      <td>4.947917</td>\n",
       "    </tr>\n",
       "    <tr>\n",
       "      <th>Insulin</th>\n",
       "      <td>192</td>\n",
       "      <td>25.000000</td>\n",
       "    </tr>\n",
       "    <tr>\n",
       "      <th>BMI</th>\n",
       "      <td>230</td>\n",
       "      <td>29.947917</td>\n",
       "    </tr>\n",
       "    <tr>\n",
       "      <th>DiabetesPedigreeFunction</th>\n",
       "      <td>77</td>\n",
       "      <td>10.026042</td>\n",
       "    </tr>\n",
       "    <tr>\n",
       "      <th>Age</th>\n",
       "      <td>154</td>\n",
       "      <td>20.052083</td>\n",
       "    </tr>\n",
       "    <tr>\n",
       "      <th>Outcome</th>\n",
       "      <td>0</td>\n",
       "      <td>0.000000</td>\n",
       "    </tr>\n",
       "  </tbody>\n",
       "</table>\n",
       "</div>"
      ],
      "text/plain": [
       "                          Missing Values  Missing Percentage\n",
       "Pregnancies                           77           10.026042\n",
       "Glucose                              115           14.973958\n",
       "BloodPressure                        154           20.052083\n",
       "SkinThickness                         38            4.947917\n",
       "Insulin                              192           25.000000\n",
       "BMI                                  230           29.947917\n",
       "DiabetesPedigreeFunction              77           10.026042\n",
       "Age                                  154           20.052083\n",
       "Outcome                                0            0.000000"
      ]
     },
     "execution_count": 25,
     "metadata": {},
     "output_type": "execute_result"
    }
   ],
   "source": [
    "#check missing values\n",
    "def missing_value(df):\n",
    "    missing_value = df.isnull().sum()\n",
    "    total_cells = df.shape[0]\n",
    "    missing_percentage = (missing_value/total_cells) * 100\n",
    "    return pd.DataFrame({\n",
    "        'Missing Values': missing_value,\n",
    "        'Missing Percentage': missing_percentage\n",
    "    })\n",
    "\n",
    "missing_value(df)"
   ]
  },
  {
   "cell_type": "markdown",
   "id": "90d01c20-e521-4d76-8fdc-cdfccd4f7f47",
   "metadata": {},
   "source": [
    "## Imputasi dengan Mean, Media dan Modus ##"
   ]
  },
  {
   "cell_type": "code",
   "execution_count": 30,
   "id": "2cbc1ced-cf7c-437c-ad1c-02060bfc7bf2",
   "metadata": {},
   "outputs": [
    {
     "data": {
      "text/plain": [
       "Pregnancies                 0\n",
       "Glucose                     0\n",
       "BloodPressure               0\n",
       "SkinThickness               0\n",
       "Insulin                     0\n",
       "BMI                         0\n",
       "DiabetesPedigreeFunction    0\n",
       "Age                         0\n",
       "Outcome                     0\n",
       "dtype: int64"
      ]
     },
     "execution_count": 30,
     "metadata": {},
     "output_type": "execute_result"
    }
   ],
   "source": [
    "df_mean = SimpleImputer(\n",
    "        missing_values=np.nan,\n",
    "        strategy='mean')\n",
    "\n",
    "df_mean = pd.DataFrame(df_mean.fit_transform(df), columns=df.columns)\n",
    "\n",
    "df_mean.isna().sum()"
   ]
  },
  {
   "cell_type": "code",
   "execution_count": 32,
   "id": "63a9e444-b3c9-4b45-a5f7-71dad44199af",
   "metadata": {},
   "outputs": [
    {
     "data": {
      "text/html": [
       "<div>\n",
       "<style scoped>\n",
       "    .dataframe tbody tr th:only-of-type {\n",
       "        vertical-align: middle;\n",
       "    }\n",
       "\n",
       "    .dataframe tbody tr th {\n",
       "        vertical-align: top;\n",
       "    }\n",
       "\n",
       "    .dataframe thead th {\n",
       "        text-align: right;\n",
       "    }\n",
       "</style>\n",
       "<table border=\"1\" class=\"dataframe\">\n",
       "  <thead>\n",
       "    <tr style=\"text-align: right;\">\n",
       "      <th></th>\n",
       "      <th>Pregnancies</th>\n",
       "      <th>Glucose</th>\n",
       "      <th>BloodPressure</th>\n",
       "      <th>SkinThickness</th>\n",
       "      <th>Insulin</th>\n",
       "      <th>BMI</th>\n",
       "      <th>DiabetesPedigreeFunction</th>\n",
       "      <th>Age</th>\n",
       "      <th>Outcome</th>\n",
       "    </tr>\n",
       "  </thead>\n",
       "  <tbody>\n",
       "    <tr>\n",
       "      <th>0</th>\n",
       "      <td>6.0</td>\n",
       "      <td>120.462481</td>\n",
       "      <td>72.0</td>\n",
       "      <td>35.0</td>\n",
       "      <td>0.0</td>\n",
       "      <td>31.99368</td>\n",
       "      <td>0.627000</td>\n",
       "      <td>33.166124</td>\n",
       "      <td>1.0</td>\n",
       "    </tr>\n",
       "    <tr>\n",
       "      <th>1</th>\n",
       "      <td>1.0</td>\n",
       "      <td>85.000000</td>\n",
       "      <td>66.0</td>\n",
       "      <td>29.0</td>\n",
       "      <td>0.0</td>\n",
       "      <td>31.99368</td>\n",
       "      <td>0.351000</td>\n",
       "      <td>31.000000</td>\n",
       "      <td>0.0</td>\n",
       "    </tr>\n",
       "    <tr>\n",
       "      <th>2</th>\n",
       "      <td>8.0</td>\n",
       "      <td>183.000000</td>\n",
       "      <td>64.0</td>\n",
       "      <td>0.0</td>\n",
       "      <td>0.0</td>\n",
       "      <td>23.30000</td>\n",
       "      <td>0.672000</td>\n",
       "      <td>32.000000</td>\n",
       "      <td>1.0</td>\n",
       "    </tr>\n",
       "    <tr>\n",
       "      <th>3</th>\n",
       "      <td>1.0</td>\n",
       "      <td>89.000000</td>\n",
       "      <td>66.0</td>\n",
       "      <td>23.0</td>\n",
       "      <td>94.0</td>\n",
       "      <td>28.10000</td>\n",
       "      <td>0.167000</td>\n",
       "      <td>21.000000</td>\n",
       "      <td>0.0</td>\n",
       "    </tr>\n",
       "    <tr>\n",
       "      <th>4</th>\n",
       "      <td>0.0</td>\n",
       "      <td>120.462481</td>\n",
       "      <td>40.0</td>\n",
       "      <td>35.0</td>\n",
       "      <td>168.0</td>\n",
       "      <td>43.10000</td>\n",
       "      <td>0.465363</td>\n",
       "      <td>33.000000</td>\n",
       "      <td>1.0</td>\n",
       "    </tr>\n",
       "  </tbody>\n",
       "</table>\n",
       "</div>"
      ],
      "text/plain": [
       "   Pregnancies     Glucose  BloodPressure  SkinThickness  Insulin       BMI  \\\n",
       "0          6.0  120.462481           72.0           35.0      0.0  31.99368   \n",
       "1          1.0   85.000000           66.0           29.0      0.0  31.99368   \n",
       "2          8.0  183.000000           64.0            0.0      0.0  23.30000   \n",
       "3          1.0   89.000000           66.0           23.0     94.0  28.10000   \n",
       "4          0.0  120.462481           40.0           35.0    168.0  43.10000   \n",
       "\n",
       "   DiabetesPedigreeFunction        Age  Outcome  \n",
       "0                  0.627000  33.166124      1.0  \n",
       "1                  0.351000  31.000000      0.0  \n",
       "2                  0.672000  32.000000      1.0  \n",
       "3                  0.167000  21.000000      0.0  \n",
       "4                  0.465363  33.000000      1.0  "
      ]
     },
     "execution_count": 32,
     "metadata": {},
     "output_type": "execute_result"
    }
   ],
   "source": [
    "df_mean.head()"
   ]
  },
  {
   "cell_type": "code",
   "execution_count": 34,
   "id": "ef7a1404-59e5-43ab-8395-b3f61a9ad201",
   "metadata": {},
   "outputs": [
    {
     "data": {
      "text/plain": [
       "Pregnancies                 0\n",
       "Glucose                     0\n",
       "BloodPressure               0\n",
       "SkinThickness               0\n",
       "Insulin                     0\n",
       "BMI                         0\n",
       "DiabetesPedigreeFunction    0\n",
       "Age                         0\n",
       "Outcome                     0\n",
       "dtype: int64"
      ]
     },
     "execution_count": 34,
     "metadata": {},
     "output_type": "execute_result"
    }
   ],
   "source": [
    "df_median = SimpleImputer(\n",
    "        missing_values=np.nan,\n",
    "        strategy='median')\n",
    "\n",
    "df_median = pd.DataFrame(df_median.fit_transform(df), columns=df.columns)\n",
    "\n",
    "df_median.isna().sum()"
   ]
  },
  {
   "cell_type": "code",
   "execution_count": 36,
   "id": "77e6c00e-22d7-4e76-89da-f0538a9947c8",
   "metadata": {},
   "outputs": [
    {
     "data": {
      "text/html": [
       "<div>\n",
       "<style scoped>\n",
       "    .dataframe tbody tr th:only-of-type {\n",
       "        vertical-align: middle;\n",
       "    }\n",
       "\n",
       "    .dataframe tbody tr th {\n",
       "        vertical-align: top;\n",
       "    }\n",
       "\n",
       "    .dataframe thead th {\n",
       "        text-align: right;\n",
       "    }\n",
       "</style>\n",
       "<table border=\"1\" class=\"dataframe\">\n",
       "  <thead>\n",
       "    <tr style=\"text-align: right;\">\n",
       "      <th></th>\n",
       "      <th>Pregnancies</th>\n",
       "      <th>Glucose</th>\n",
       "      <th>BloodPressure</th>\n",
       "      <th>SkinThickness</th>\n",
       "      <th>Insulin</th>\n",
       "      <th>BMI</th>\n",
       "      <th>DiabetesPedigreeFunction</th>\n",
       "      <th>Age</th>\n",
       "      <th>Outcome</th>\n",
       "    </tr>\n",
       "  </thead>\n",
       "  <tbody>\n",
       "    <tr>\n",
       "      <th>0</th>\n",
       "      <td>6.0</td>\n",
       "      <td>116.0</td>\n",
       "      <td>72.0</td>\n",
       "      <td>35.0</td>\n",
       "      <td>0.0</td>\n",
       "      <td>32.15</td>\n",
       "      <td>0.627</td>\n",
       "      <td>29.0</td>\n",
       "      <td>1.0</td>\n",
       "    </tr>\n",
       "    <tr>\n",
       "      <th>1</th>\n",
       "      <td>1.0</td>\n",
       "      <td>85.0</td>\n",
       "      <td>66.0</td>\n",
       "      <td>29.0</td>\n",
       "      <td>0.0</td>\n",
       "      <td>32.15</td>\n",
       "      <td>0.351</td>\n",
       "      <td>31.0</td>\n",
       "      <td>0.0</td>\n",
       "    </tr>\n",
       "    <tr>\n",
       "      <th>2</th>\n",
       "      <td>8.0</td>\n",
       "      <td>183.0</td>\n",
       "      <td>64.0</td>\n",
       "      <td>0.0</td>\n",
       "      <td>0.0</td>\n",
       "      <td>23.30</td>\n",
       "      <td>0.672</td>\n",
       "      <td>32.0</td>\n",
       "      <td>1.0</td>\n",
       "    </tr>\n",
       "    <tr>\n",
       "      <th>3</th>\n",
       "      <td>1.0</td>\n",
       "      <td>89.0</td>\n",
       "      <td>66.0</td>\n",
       "      <td>23.0</td>\n",
       "      <td>94.0</td>\n",
       "      <td>28.10</td>\n",
       "      <td>0.167</td>\n",
       "      <td>21.0</td>\n",
       "      <td>0.0</td>\n",
       "    </tr>\n",
       "    <tr>\n",
       "      <th>4</th>\n",
       "      <td>0.0</td>\n",
       "      <td>116.0</td>\n",
       "      <td>40.0</td>\n",
       "      <td>35.0</td>\n",
       "      <td>168.0</td>\n",
       "      <td>43.10</td>\n",
       "      <td>0.365</td>\n",
       "      <td>33.0</td>\n",
       "      <td>1.0</td>\n",
       "    </tr>\n",
       "  </tbody>\n",
       "</table>\n",
       "</div>"
      ],
      "text/plain": [
       "   Pregnancies  Glucose  BloodPressure  SkinThickness  Insulin    BMI  \\\n",
       "0          6.0    116.0           72.0           35.0      0.0  32.15   \n",
       "1          1.0     85.0           66.0           29.0      0.0  32.15   \n",
       "2          8.0    183.0           64.0            0.0      0.0  23.30   \n",
       "3          1.0     89.0           66.0           23.0     94.0  28.10   \n",
       "4          0.0    116.0           40.0           35.0    168.0  43.10   \n",
       "\n",
       "   DiabetesPedigreeFunction   Age  Outcome  \n",
       "0                     0.627  29.0      1.0  \n",
       "1                     0.351  31.0      0.0  \n",
       "2                     0.672  32.0      1.0  \n",
       "3                     0.167  21.0      0.0  \n",
       "4                     0.365  33.0      1.0  "
      ]
     },
     "execution_count": 36,
     "metadata": {},
     "output_type": "execute_result"
    }
   ],
   "source": [
    "df_median.head()"
   ]
  },
  {
   "cell_type": "code",
   "execution_count": 42,
   "id": "bb210439-902c-4450-9b0b-f90fef4de7ed",
   "metadata": {},
   "outputs": [
    {
     "data": {
      "text/plain": [
       "Pregnancies                 0\n",
       "Glucose                     0\n",
       "BloodPressure               0\n",
       "SkinThickness               0\n",
       "Insulin                     0\n",
       "BMI                         0\n",
       "DiabetesPedigreeFunction    0\n",
       "Age                         0\n",
       "Outcome                     0\n",
       "dtype: int64"
      ]
     },
     "execution_count": 42,
     "metadata": {},
     "output_type": "execute_result"
    }
   ],
   "source": [
    "df_modus = SimpleImputer(\n",
    "        missing_values=np.nan,\n",
    "        strategy='most_frequent')\n",
    "\n",
    "df_modus = pd.DataFrame(df_modus.fit_transform(df), columns=df.columns)\n",
    "\n",
    "df_modus.isna().sum()"
   ]
  },
  {
   "cell_type": "code",
   "execution_count": 44,
   "id": "08ceb381-e84f-42a2-8974-321635a539dc",
   "metadata": {},
   "outputs": [
    {
     "data": {
      "text/html": [
       "<div>\n",
       "<style scoped>\n",
       "    .dataframe tbody tr th:only-of-type {\n",
       "        vertical-align: middle;\n",
       "    }\n",
       "\n",
       "    .dataframe tbody tr th {\n",
       "        vertical-align: top;\n",
       "    }\n",
       "\n",
       "    .dataframe thead th {\n",
       "        text-align: right;\n",
       "    }\n",
       "</style>\n",
       "<table border=\"1\" class=\"dataframe\">\n",
       "  <thead>\n",
       "    <tr style=\"text-align: right;\">\n",
       "      <th></th>\n",
       "      <th>Pregnancies</th>\n",
       "      <th>Glucose</th>\n",
       "      <th>BloodPressure</th>\n",
       "      <th>SkinThickness</th>\n",
       "      <th>Insulin</th>\n",
       "      <th>BMI</th>\n",
       "      <th>DiabetesPedigreeFunction</th>\n",
       "      <th>Age</th>\n",
       "      <th>Outcome</th>\n",
       "    </tr>\n",
       "  </thead>\n",
       "  <tbody>\n",
       "    <tr>\n",
       "      <th>0</th>\n",
       "      <td>6.0</td>\n",
       "      <td>100.0</td>\n",
       "      <td>72.0</td>\n",
       "      <td>35.0</td>\n",
       "      <td>0.0</td>\n",
       "      <td>31.2</td>\n",
       "      <td>0.627</td>\n",
       "      <td>22.0</td>\n",
       "      <td>1.0</td>\n",
       "    </tr>\n",
       "    <tr>\n",
       "      <th>1</th>\n",
       "      <td>1.0</td>\n",
       "      <td>85.0</td>\n",
       "      <td>66.0</td>\n",
       "      <td>29.0</td>\n",
       "      <td>0.0</td>\n",
       "      <td>31.2</td>\n",
       "      <td>0.351</td>\n",
       "      <td>31.0</td>\n",
       "      <td>0.0</td>\n",
       "    </tr>\n",
       "    <tr>\n",
       "      <th>2</th>\n",
       "      <td>8.0</td>\n",
       "      <td>183.0</td>\n",
       "      <td>64.0</td>\n",
       "      <td>0.0</td>\n",
       "      <td>0.0</td>\n",
       "      <td>23.3</td>\n",
       "      <td>0.672</td>\n",
       "      <td>32.0</td>\n",
       "      <td>1.0</td>\n",
       "    </tr>\n",
       "    <tr>\n",
       "      <th>3</th>\n",
       "      <td>1.0</td>\n",
       "      <td>89.0</td>\n",
       "      <td>66.0</td>\n",
       "      <td>23.0</td>\n",
       "      <td>94.0</td>\n",
       "      <td>28.1</td>\n",
       "      <td>0.167</td>\n",
       "      <td>21.0</td>\n",
       "      <td>0.0</td>\n",
       "    </tr>\n",
       "    <tr>\n",
       "      <th>4</th>\n",
       "      <td>0.0</td>\n",
       "      <td>100.0</td>\n",
       "      <td>40.0</td>\n",
       "      <td>35.0</td>\n",
       "      <td>168.0</td>\n",
       "      <td>43.1</td>\n",
       "      <td>0.207</td>\n",
       "      <td>33.0</td>\n",
       "      <td>1.0</td>\n",
       "    </tr>\n",
       "  </tbody>\n",
       "</table>\n",
       "</div>"
      ],
      "text/plain": [
       "   Pregnancies  Glucose  BloodPressure  SkinThickness  Insulin   BMI  \\\n",
       "0          6.0    100.0           72.0           35.0      0.0  31.2   \n",
       "1          1.0     85.0           66.0           29.0      0.0  31.2   \n",
       "2          8.0    183.0           64.0            0.0      0.0  23.3   \n",
       "3          1.0     89.0           66.0           23.0     94.0  28.1   \n",
       "4          0.0    100.0           40.0           35.0    168.0  43.1   \n",
       "\n",
       "   DiabetesPedigreeFunction   Age  Outcome  \n",
       "0                     0.627  22.0      1.0  \n",
       "1                     0.351  31.0      0.0  \n",
       "2                     0.672  32.0      1.0  \n",
       "3                     0.167  21.0      0.0  \n",
       "4                     0.207  33.0      1.0  "
      ]
     },
     "execution_count": 44,
     "metadata": {},
     "output_type": "execute_result"
    }
   ],
   "source": [
    "df_modus.head()"
   ]
  },
  {
   "cell_type": "markdown",
   "id": "321e5099-d2e9-44d7-9ab9-82970e0de4fd",
   "metadata": {},
   "source": [
    "## Cek korelasi antar variabel dengan heatmap ##"
   ]
  },
  {
   "cell_type": "code",
   "execution_count": 47,
   "id": "0e92081b-3fe9-441a-ac70-d33ea39ce8e2",
   "metadata": {},
   "outputs": [
    {
     "data": {
      "image/png": "[encoded data removed]",
      "text/plain": [
       "<Figure size 3000x3000 with 2 Axes>"
      ]
     },
     "metadata": {},
     "output_type": "display_data"
    }
   ],
   "source": [
    "plt.figure(figsize=(30, 30))\n",
    "sns.heatmap(df_mean.corr(), annot=True, cmap='viridis', linewidths=0.5)\n",
    "plt.title('Correlation Heatmap')\n",
    "plt.show()"
   ]
  },
  {
   "cell_type": "markdown",
   "id": "3babad26-7e21-4d3f-9065-8ab51d6c77cf",
   "metadata": {},
   "source": [
    "## Lakukan imbalance handling dengan undersampling ##"
   ]
  },
  {
   "cell_type": "markdown",
   "id": "69d33744-c617-4e6e-a895-6520072304ad",
   "metadata": {},
   "source": [
    "### Data Splitting ###"
   ]
  },
  {
   "cell_type": "code",
   "execution_count": 51,
   "id": "f36ecf2f-ed84-4ae4-9d21-f40985900435",
   "metadata": {},
   "outputs": [],
   "source": [
    "# Memisahkan fitur (X) dan target (y) dari data yang sudah diimputasi\n",
    "X = df_mean.drop(columns='Outcome')  # Fitur\n",
    "y = df_mean['Outcome']  # Target\n",
    "\n",
    "# Membagi data menjadi 80/20\n",
    "X_train, X_test, y_train, y_test = train_test_split(X, y, test_size=0.2, random_state=42)"
   ]
  },
  {
   "cell_type": "markdown",
   "id": "591f6b63-f4a0-4384-9baa-ff164a24403f",
   "metadata": {},
   "source": [
    "### Undersampling dengan ENN (Edited Nearest Neighbors) ###"
   ]
  },
  {
   "cell_type": "code",
   "execution_count": 55,
   "id": "769b82e0-f59f-4726-a9c7-d765366b79ab",
   "metadata": {},
   "outputs": [
    {
     "data": {
      "image/png": "[encoded data removed]",
      "text/plain": [
       "<Figure size 640x480 with 1 Axes>"
      ]
     },
     "metadata": {},
     "output_type": "display_data"
    },
    {
     "name": "stdout",
     "output_type": "stream",
     "text": [
      "Jumlah data sebelum undersampling:\n",
      "0.0    401\n",
      "1.0    213\n",
      "Name: Outcome, dtype: int64\n",
      "\n",
      "Jumlah data setelah undersampling:\n",
      "1.0    213\n",
      "0.0    171\n",
      "Name: Outcome, dtype: int64\n"
     ]
    }
   ],
   "source": [
    "enn = EditedNearestNeighbours()  # Enn undersampling\n",
    "X_resampled, y_resampled = enn.fit_resample(X_train, y_train)\n",
    "\n",
    "# Visualisasi distribusi kelas setelah undersampling\n",
    "sns.countplot(x=y_resampled)\n",
    "plt.title('Kelas Distribusi Setelah Undersampling')\n",
    "plt.show()\n",
    "\n",
    "# Melihat jumlah data sebelum undersampling\n",
    "print(\"Jumlah data sebelum undersampling:\")\n",
    "print(y_train.value_counts())\n",
    "print()\n",
    "\n",
    "# Melihat jumlah data setelah undersampling\n",
    "print(\"Jumlah data setelah undersampling:\")\n",
    "print(pd.Series(y_resampled).value_counts())"
   ]
  },
  {
   "cell_type": "markdown",
   "id": "bd970bd6-be50-4f2b-a66b-3d1e7c583c34",
   "metadata": {},
   "source": [
    "### Lakukan scaling dengan robust scaler dan minmax ###"
   ]
  },
  {
   "cell_type": "code",
   "execution_count": 58,
   "id": "66461dd2-dd49-4b9a-99e9-09069d330553",
   "metadata": {},
   "outputs": [],
   "source": [
    "numeric_columns = ['Pregnancies', 'Glucose', 'BloodPressure', 'SkinThickness',\n",
    "                  'Insulin', 'BMI', 'DiabetesPedigreeFunction', 'Age',\n",
    "                  'Outcome']\n",
    "\n",
    "scaler_robust = RobustScaler()\n",
    "robust_scaled_array = scaler_robust.fit_transform(df_mean[numeric_columns])\n",
    "robust_scaled_df = pd.DataFrame(robust_scaled_array, columns=numeric_columns)\n",
    "\n",
    "scaler_minmax = MinMaxScaler()\n",
    "minmax_scaled_array = scaler_minmax.fit_transform(df_mean[numeric_columns])\n",
    "minmax_scaled_df = pd.DataFrame(minmax_scaled_array, columns=numeric_columns)"
   ]
  },
  {
   "cell_type": "code",
   "execution_count": 60,
   "id": "66fe4621-c4a0-449d-b3c9-ca055e2bf636",
   "metadata": {},
   "outputs": [
    {
     "name": "stdout",
     "output_type": "stream",
     "text": [
      "Data setelah Scaling with Min Max Scaling:\n",
      "    Pregnancies   Glucose  BloodPressure  SkinThickness   Insulin       BMI  \\\n",
      "0     0.352941  0.605339       0.631579       0.353535  0.000000  0.476806   \n",
      "1     0.058824  0.427136       0.578947       0.292929  0.000000  0.476806   \n",
      "2     0.470588  0.919598       0.561404       0.000000  0.000000  0.347243   \n",
      "3     0.058824  0.447236       0.578947       0.232323  0.138235  0.418778   \n",
      "4     0.000000  0.605339       0.350877       0.353535  0.247059  0.642325   \n",
      "\n",
      "   DiabetesPedigreeFunction       Age  Outcome  \n",
      "0                  0.243892  0.202769      1.0  \n",
      "1                  0.121279  0.166667      0.0  \n",
      "2                  0.263883  0.183333      1.0  \n",
      "3                  0.039538  0.000000      0.0  \n",
      "4                  0.172085  0.200000      1.0  \n"
     ]
    }
   ],
   "source": [
    "def min_max_scale(column):\n",
    "    min_val = column.min()\n",
    "    max_val = column.max()\n",
    "    return (column - min_val) / (max_val - min_val)\n",
    "\n",
    "# Melakukan Min-Max Scaling pada kolom numerik\n",
    "for column in numeric_columns:\n",
    "    df_mean[column] = min_max_scale(df_mean[column])\n",
    "\n",
    "# Menampilkan beberapa baris pertama dari dataset yang telah di-scale\n",
    "print(\"Data setelah Scaling with Min Max Scaling:\\n\", df_mean.head())"
   ]
  },
  {
   "cell_type": "code",
   "execution_count": 62,
   "id": "ec258bba-ff01-4149-b124-5bfa39cf117f",
   "metadata": {},
   "outputs": [
    {
     "name": "stdout",
     "output_type": "stream",
     "text": [
      "Data setelah Scaling with Robust Scaling:\n",
      "    Pregnancies   Glucose  BloodPressure  SkinThickness   Insulin       BMI  \\\n",
      "0     0.549204  0.000000       0.233901        0.40625 -0.831119  0.000000   \n",
      "1    -0.700796 -1.099612      -0.227637        0.21875 -0.831119  0.000000   \n",
      "2     1.049204  1.939148      -0.381483       -0.68750 -0.831119 -1.879715   \n",
      "3    -0.700796 -0.975581      -0.227637        0.03125  0.185098 -0.841877   \n",
      "4    -0.950796  0.000000      -2.227637        0.40625  0.985098  2.401366   \n",
      "\n",
      "   DiabetesPedigreeFunction       Age  Outcome  \n",
      "0                  0.641312  0.000000      1.0  \n",
      "1                 -0.181954 -0.180510      0.0  \n",
      "2                  0.775541 -0.097177      1.0  \n",
      "3                 -0.730798 -1.013844      0.0  \n",
      "4                  0.159174 -0.013844      1.0  \n"
     ]
    }
   ],
   "source": [
    "def robust_scale(column):\n",
    "    median = column.median()\n",
    "    q1 = column.quantile(0.25)\n",
    "    q3 = column.quantile(0.75)\n",
    "    iqr = q3 - q1\n",
    "    return (column - median) / iqr\n",
    "\n",
    "# Melakukan Robust Scaling pada kolom numerik\n",
    "for column in numeric_columns:\n",
    "    df_mean[column] = robust_scale(df_mean[column])\n",
    "\n",
    "# Menampilkan beberapa baris pertama dari dataset yang telah di-scale\n",
    "print(\"Data setelah Scaling with Robust Scaling:\\n\", df_mean.head())"
   ]
  }
 ],
 "metadata": {
  "kernelspec": {
   "display_name": "Python 3 (ipykernel)",
   "language": "python",
   "name": "python3"
  },
  "language_info": {
   "codemirror_mode": {
    "name": "ipython",
    "version": 3
   },
   "file_extension": ".py",
   "mimetype": "text/x-python",
   "name": "python",
   "nbconvert_exporter": "python",
   "pygments_lexer": "ipython3",
   "version": "3.10.9"
  }
 },
 "nbformat": 4,
 "nbformat_minor": 5
}
