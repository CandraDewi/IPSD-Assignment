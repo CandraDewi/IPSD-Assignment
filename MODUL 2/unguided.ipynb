{
 "cells": [
  {
   "cell_type": "markdown",
   "id": "62d20840-d0db-4c28-b295-68bd8d2ba1da",
   "metadata": {},
   "source": [
    "## 1. Load data (movie classification) ##"
   ]
  },
  {
   "cell_type": "code",
   "execution_count": 5,
   "id": "bb4f5da6-2265-43f7-864b-79e96db0e75c",
   "metadata": {},
   "outputs": [],
   "source": [
    "import pandas as pd\n",
    "import numpy as np"
   ]
  },
  {
   "cell_type": "code",
   "execution_count": 9,
   "id": "6d801711-f350-4008-a96f-6e98a52b354e",
   "metadata": {},
   "outputs": [
    {
     "data": {
      "text/html": [
       "<div>\n",
       "<style scoped>\n",
       "    .dataframe tbody tr th:only-of-type {\n",
       "        vertical-align: middle;\n",
       "    }\n",
       "\n",
       "    .dataframe tbody tr th {\n",
       "        vertical-align: top;\n",
       "    }\n",
       "\n",
       "    .dataframe thead th {\n",
       "        text-align: right;\n",
       "    }\n",
       "</style>\n",
       "<table border=\"1\" class=\"dataframe\">\n",
       "  <thead>\n",
       "    <tr style=\"text-align: right;\">\n",
       "      <th></th>\n",
       "      <th>Marketing expense</th>\n",
       "      <th>Production expense</th>\n",
       "      <th>Multiplex coverage</th>\n",
       "      <th>Budget</th>\n",
       "      <th>Movie_length</th>\n",
       "      <th>Lead_ Actor_Rating</th>\n",
       "      <th>Lead_Actress_rating</th>\n",
       "      <th>Director_rating</th>\n",
       "      <th>Producer_rating</th>\n",
       "      <th>Critic_rating</th>\n",
       "      <th>Trailer_views</th>\n",
       "      <th>3D_available</th>\n",
       "      <th>Time_taken</th>\n",
       "      <th>Twitter_hastags</th>\n",
       "      <th>Genre</th>\n",
       "      <th>Avg_age_actors</th>\n",
       "      <th>Num_multiplex</th>\n",
       "      <th>Collection</th>\n",
       "      <th>Start_Tech_Oscar</th>\n",
       "    </tr>\n",
       "  </thead>\n",
       "  <tbody>\n",
       "    <tr>\n",
       "      <th>0</th>\n",
       "      <td>20.1264</td>\n",
       "      <td>59.62</td>\n",
       "      <td>0.462</td>\n",
       "      <td>36524.125</td>\n",
       "      <td>138.7</td>\n",
       "      <td>7.825</td>\n",
       "      <td>8.095</td>\n",
       "      <td>7.910</td>\n",
       "      <td>7.995</td>\n",
       "      <td>7.94</td>\n",
       "      <td>527367</td>\n",
       "      <td>YES</td>\n",
       "      <td>109.60</td>\n",
       "      <td>223.840</td>\n",
       "      <td>Thriller</td>\n",
       "      <td>23</td>\n",
       "      <td>494</td>\n",
       "      <td>48000</td>\n",
       "      <td>1</td>\n",
       "    </tr>\n",
       "    <tr>\n",
       "      <th>1</th>\n",
       "      <td>20.5462</td>\n",
       "      <td>69.14</td>\n",
       "      <td>0.531</td>\n",
       "      <td>35668.655</td>\n",
       "      <td>152.4</td>\n",
       "      <td>7.505</td>\n",
       "      <td>7.650</td>\n",
       "      <td>7.440</td>\n",
       "      <td>7.470</td>\n",
       "      <td>7.44</td>\n",
       "      <td>494055</td>\n",
       "      <td>NO</td>\n",
       "      <td>146.64</td>\n",
       "      <td>243.456</td>\n",
       "      <td>Drama</td>\n",
       "      <td>42</td>\n",
       "      <td>462</td>\n",
       "      <td>43200</td>\n",
       "      <td>0</td>\n",
       "    </tr>\n",
       "    <tr>\n",
       "      <th>2</th>\n",
       "      <td>20.5458</td>\n",
       "      <td>69.14</td>\n",
       "      <td>0.531</td>\n",
       "      <td>39912.675</td>\n",
       "      <td>134.6</td>\n",
       "      <td>7.485</td>\n",
       "      <td>7.570</td>\n",
       "      <td>7.495</td>\n",
       "      <td>7.515</td>\n",
       "      <td>7.44</td>\n",
       "      <td>547051</td>\n",
       "      <td>NO</td>\n",
       "      <td>147.88</td>\n",
       "      <td>2022.400</td>\n",
       "      <td>Comedy</td>\n",
       "      <td>38</td>\n",
       "      <td>458</td>\n",
       "      <td>69400</td>\n",
       "      <td>1</td>\n",
       "    </tr>\n",
       "    <tr>\n",
       "      <th>3</th>\n",
       "      <td>20.6474</td>\n",
       "      <td>59.36</td>\n",
       "      <td>0.542</td>\n",
       "      <td>38873.890</td>\n",
       "      <td>119.3</td>\n",
       "      <td>6.895</td>\n",
       "      <td>7.035</td>\n",
       "      <td>6.920</td>\n",
       "      <td>7.020</td>\n",
       "      <td>8.26</td>\n",
       "      <td>516279</td>\n",
       "      <td>YES</td>\n",
       "      <td>185.36</td>\n",
       "      <td>225.344</td>\n",
       "      <td>Drama</td>\n",
       "      <td>45</td>\n",
       "      <td>472</td>\n",
       "      <td>66800</td>\n",
       "      <td>1</td>\n",
       "    </tr>\n",
       "    <tr>\n",
       "      <th>4</th>\n",
       "      <td>21.3810</td>\n",
       "      <td>59.36</td>\n",
       "      <td>0.542</td>\n",
       "      <td>39701.585</td>\n",
       "      <td>127.7</td>\n",
       "      <td>6.920</td>\n",
       "      <td>7.070</td>\n",
       "      <td>6.815</td>\n",
       "      <td>7.070</td>\n",
       "      <td>8.26</td>\n",
       "      <td>531448</td>\n",
       "      <td>NO</td>\n",
       "      <td>176.48</td>\n",
       "      <td>225.792</td>\n",
       "      <td>Drama</td>\n",
       "      <td>55</td>\n",
       "      <td>395</td>\n",
       "      <td>72400</td>\n",
       "      <td>1</td>\n",
       "    </tr>\n",
       "  </tbody>\n",
       "</table>\n",
       "</div>"
      ],
      "text/plain": [
       "   Marketing expense  Production expense  Multiplex coverage     Budget  \\\n",
       "0            20.1264               59.62               0.462  36524.125   \n",
       "1            20.5462               69.14               0.531  35668.655   \n",
       "2            20.5458               69.14               0.531  39912.675   \n",
       "3            20.6474               59.36               0.542  38873.890   \n",
       "4            21.3810               59.36               0.542  39701.585   \n",
       "\n",
       "   Movie_length  Lead_ Actor_Rating  Lead_Actress_rating  Director_rating  \\\n",
       "0         138.7               7.825                8.095            7.910   \n",
       "1         152.4               7.505                7.650            7.440   \n",
       "2         134.6               7.485                7.570            7.495   \n",
       "3         119.3               6.895                7.035            6.920   \n",
       "4         127.7               6.920                7.070            6.815   \n",
       "\n",
       "   Producer_rating  Critic_rating  Trailer_views 3D_available  Time_taken  \\\n",
       "0            7.995           7.94         527367          YES      109.60   \n",
       "1            7.470           7.44         494055           NO      146.64   \n",
       "2            7.515           7.44         547051           NO      147.88   \n",
       "3            7.020           8.26         516279          YES      185.36   \n",
       "4            7.070           8.26         531448           NO      176.48   \n",
       "\n",
       "   Twitter_hastags     Genre  Avg_age_actors  Num_multiplex  Collection  \\\n",
       "0          223.840  Thriller              23            494       48000   \n",
       "1          243.456     Drama              42            462       43200   \n",
       "2         2022.400    Comedy              38            458       69400   \n",
       "3          225.344     Drama              45            472       66800   \n",
       "4          225.792     Drama              55            395       72400   \n",
       "\n",
       "   Start_Tech_Oscar  \n",
       "0                 1  \n",
       "1                 0  \n",
       "2                 1  \n",
       "3                 1  \n",
       "4                 1  "
      ]
     },
     "execution_count": 9,
     "metadata": {},
     "output_type": "execute_result"
    }
   ],
   "source": [
    "df = pd.read_csv('Movie_classification.csv')\n",
    "df.head()"
   ]
  },
  {
   "cell_type": "code",
   "execution_count": 12,
   "id": "a366fb23-be5f-4ef9-8927-2e4591ffd75d",
   "metadata": {},
   "outputs": [
    {
     "name": "stdout",
     "output_type": "stream",
     "text": [
      "<class 'pandas.core.frame.DataFrame'>\n",
      "RangeIndex: 506 entries, 0 to 505\n",
      "Data columns (total 19 columns):\n",
      " #   Column               Non-Null Count  Dtype  \n",
      "---  ------               --------------  -----  \n",
      " 0   Marketing expense    506 non-null    float64\n",
      " 1   Production expense   506 non-null    float64\n",
      " 2   Multiplex coverage   506 non-null    float64\n",
      " 3   Budget               506 non-null    float64\n",
      " 4   Movie_length         506 non-null    float64\n",
      " 5   Lead_ Actor_Rating   506 non-null    float64\n",
      " 6   Lead_Actress_rating  506 non-null    float64\n",
      " 7   Director_rating      506 non-null    float64\n",
      " 8   Producer_rating      506 non-null    float64\n",
      " 9   Critic_rating        506 non-null    float64\n",
      " 10  Trailer_views        506 non-null    int64  \n",
      " 11  3D_available         506 non-null    object \n",
      " 12  Time_taken           494 non-null    float64\n",
      " 13  Twitter_hastags      506 non-null    float64\n",
      " 14  Genre                506 non-null    object \n",
      " 15  Avg_age_actors       506 non-null    int64  \n",
      " 16  Num_multiplex        506 non-null    int64  \n",
      " 17  Collection           506 non-null    int64  \n",
      " 18  Start_Tech_Oscar     506 non-null    int64  \n",
      "dtypes: float64(12), int64(5), object(2)\n",
      "memory usage: 75.2+ KB\n"
     ]
    }
   ],
   "source": [
    "df.info()"
   ]
  },
  {
   "cell_type": "markdown",
   "id": "11c53fbc-a63a-417d-99cf-26c11b0819f5",
   "metadata": {},
   "source": [
    "## 2. Cek nilai duplikat ##"
   ]
  },
  {
   "cell_type": "code",
   "execution_count": 18,
   "id": "a97dfe23-0758-45e0-926c-b1466992db57",
   "metadata": {},
   "outputs": [
    {
     "data": {
      "text/plain": [
       "0"
      ]
     },
     "execution_count": 18,
     "metadata": {},
     "output_type": "execute_result"
    }
   ],
   "source": [
    "df.duplicated().sum()"
   ]
  },
  {
   "cell_type": "markdown",
   "id": "47a7f56f-3fc1-4d31-923e-fd431de2015e",
   "metadata": {},
   "source": [
    "## 3. Menemukan null values buat presentase ##"
   ]
  },
  {
   "cell_type": "code",
   "execution_count": 22,
   "id": "183aabfd-fbdc-420e-ac0d-68664480c2d7",
   "metadata": {},
   "outputs": [
    {
     "data": {
      "text/plain": [
       "Marketing expense      0.000000\n",
       "Production expense     0.000000\n",
       "Multiplex coverage     0.000000\n",
       "Budget                 0.000000\n",
       "Movie_length           0.000000\n",
       "Lead_ Actor_Rating     0.000000\n",
       "Lead_Actress_rating    0.000000\n",
       "Director_rating        0.000000\n",
       "Producer_rating        0.000000\n",
       "Critic_rating          0.000000\n",
       "Trailer_views          0.000000\n",
       "3D_available           0.000000\n",
       "Time_taken             2.371542\n",
       "Twitter_hastags        0.000000\n",
       "Genre                  0.000000\n",
       "Avg_age_actors         0.000000\n",
       "Num_multiplex          0.000000\n",
       "Collection             0.000000\n",
       "Start_Tech_Oscar       0.000000\n",
       "dtype: float64"
      ]
     },
     "execution_count": 22,
     "metadata": {},
     "output_type": "execute_result"
    }
   ],
   "source": [
    "(df.isna().sum()/len(df))*100"
   ]
  },
  {
   "cell_type": "markdown",
   "id": "79924e32-d5bc-481c-9fe2-871b4f05cb43",
   "metadata": {},
   "source": [
    "## 4. Drop missing value berdasarkan baris ## "
   ]
  },
  {
   "cell_type": "code",
   "execution_count": 26,
   "id": "c735c3c9-1ced-4220-92b4-e9b61e2d96f9",
   "metadata": {},
   "outputs": [],
   "source": [
    "baris = df.copy(deep=True)\n",
    "\n",
    "drop_baris = baris.dropna()"
   ]
  },
  {
   "cell_type": "markdown",
   "id": "c3d2eb0f-7a44-4af6-89b0-09295bb13dba",
   "metadata": {},
   "source": [
    "## Drop missing value berdasarkan kolom ##"
   ]
  },
  {
   "cell_type": "code",
   "execution_count": 29,
   "id": "c8218abc-0d08-49fc-b14d-93f1ad1db0fe",
   "metadata": {},
   "outputs": [],
   "source": [
    "kolom = df.copy(deep=True)\n",
    "\n",
    "drop_kolom = kolom.dropna(axis=1)"
   ]
  },
  {
   "cell_type": "markdown",
   "id": "91c501e0-7d17-43cc-bb44-a9afe03d2e79",
   "metadata": {},
   "source": [
    "## Imputasi dengan mean ##"
   ]
  },
  {
   "cell_type": "code",
   "execution_count": 36,
   "id": "013a31d7-da06-487e-aa85-e9f025d9772d",
   "metadata": {},
   "outputs": [],
   "source": [
    "mean_imputasi = df.copy(deep=True)\n",
    "\n",
    "mean_imputasi['Time_taken'] = mean_imputasi['Time_taken'].fillna(mean_imputasi['Time_taken'].mean())"
   ]
  },
  {
   "cell_type": "markdown",
   "id": "933e4c20-317b-413d-a62e-0c8cec78ee53",
   "metadata": {},
   "source": [
    "## Imputasi dengan modus ##"
   ]
  },
  {
   "cell_type": "code",
   "execution_count": 39,
   "id": "d1ce0593-4768-44e6-9f99-2c1a93d626cd",
   "metadata": {},
   "outputs": [],
   "source": [
    "modus_imputasi = df.copy(deep=True)\n",
    "\n",
    "modus_imputasi['Time_taken'] = modus_imputasi['Time_taken'].fillna(modus_imputasi['Time_taken'].mode()[0])"
   ]
  },
  {
   "cell_type": "markdown",
   "id": "3ce88c5e-af48-4f28-a40b-e33188ee575d",
   "metadata": {},
   "source": [
    "## Imputasi dengan median ##"
   ]
  },
  {
   "cell_type": "code",
   "execution_count": 44,
   "id": "c6e4d9c2-69f0-4803-bb13-b3ce99c40445",
   "metadata": {},
   "outputs": [],
   "source": [
    "median_imputasi = df.copy(deep=True)\n",
    "\n",
    "median_imputasi['Time_taken'] = median_imputasi['Time_taken'].fillna(median_imputasi['Time_taken'].median())"
   ]
  },
  {
   "cell_type": "markdown",
   "id": "d070e354-3946-4e49-ab04-667b9a6bd3ba",
   "metadata": {},
   "source": [
    "## 5. Export data ke csv dan excel ##"
   ]
  },
  {
   "cell_type": "code",
   "execution_count": 50,
   "id": "dc7ef65d-a55b-4bde-b6e0-219c428c3c67",
   "metadata": {},
   "outputs": [],
   "source": [
    "drop_baris.to_excel('Movie_classification_clean_drop_baris.xlsx', index=False)\n",
    "drop_kolom.to_excel('Movie_classification_clean_drop_kolom.xlsx', index=False)\n",
    "mean_imputasi.to_excel('Movie_classification_clean_mean.xlsx', index=False)\n",
    "modus_imputasi.to_excel('Movie_classification_clean_modus.xlsx', index=False)\n",
    "median_imputasi.to_excel('Movie_classification_clean_median.xlsx', index=False)\n",
    "\n",
    "drop_baris.to_csv('Movie_classification_clean_drop_baris.csv', index=False)\n",
    "drop_kolom.to_csv('Movie_classification_clean_drop_kolom.csv', index=False)\n",
    "mean_imputasi.to_csv('Movie_classification_clean_mean.csv', index=False)\n",
    "modus_imputasi.to_csv('Movie_classification_clean_modus.csv', index=False)\n",
    "median_imputasi.to_csv('Movie_classification_clean_median.csv', index=False)"
   ]
  },
  {
   "cell_type": "code",
   "execution_count": null,
   "id": "c1933a31-6bef-459e-af78-01f469890e78",
   "metadata": {},
   "outputs": [],
   "source": []
  }
 ],
 "metadata": {
  "kernelspec": {
   "display_name": "Python 3 (ipykernel)",
   "language": "python",
   "name": "python3"
  },
  "language_info": {
   "codemirror_mode": {
    "name": "ipython",
    "version": 3
   },
   "file_extension": ".py",
   "mimetype": "text/x-python",
   "name": "python",
   "nbconvert_exporter": "python",
   "pygments_lexer": "ipython3",
   "version": "3.10.9"
  }
 },
 "nbformat": 4,
 "nbformat_minor": 5
}
